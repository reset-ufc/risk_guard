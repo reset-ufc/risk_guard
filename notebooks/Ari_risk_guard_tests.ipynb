{
  "cells": [
    {
      "cell_type": "markdown",
      "metadata": {
        "id": "SskWC0mZa6ac"
      },
      "source": [
        "# Imports"
      ]
    },
    {
      "cell_type": "code",
      "execution_count": 645,
      "metadata": {
        "id": "O7-haWMrTKa2"
      },
      "outputs": [],
      "source": [
        "import pandas as pd\n",
        "import numpy as np\n",
        "import scipy.stats as stats\n",
        "from pathlib import Path\n",
        "import seaborn as sns\n",
        "import matplotlib.pyplot as plt\n",
        "\n",
        "pd.set_option('display.max_columns', None)"
      ]
    },
    {
      "cell_type": "markdown",
      "metadata": {
        "id": "XW3unMfDa9tj"
      },
      "source": [
        "# Pré-teste e Pós-teste"
      ]
    },
    {
      "cell_type": "code",
      "execution_count": 646,
      "metadata": {
        "colab": {
          "base_uri": "https://localhost:8080/",
          "height": 1000
        },
        "id": "TzLbj_AOPYPY",
        "outputId": "d8df3737-e88f-4dce-ba9a-a47480189957"
      },
      "outputs": [],
      "source": [
        "data_path = Path('data')\n",
        "experimento = pd.read_excel(data_path / 'experimento.xlsx', sheet_name='amostragem')\n",
        "pre_teste_df = pd.read_excel(data_path / 'Formulário Pré-teste de Conhencimento (respostas) (1).xlsx')\n",
        "# pre_teste_df.head(2)"
      ]
    },
    {
      "cell_type": "code",
      "execution_count": 647,
      "metadata": {
        "colab": {
          "base_uri": "https://localhost:8080/",
          "height": 1000
        },
        "id": "f_0tWdkpTNuO",
        "outputId": "9c92bf64-d20d-4754-97e1-6f3abdc9852a"
      },
      "outputs": [],
      "source": [
        "pos_teste_df = pd.read_excel(data_path / 'Formulário Pós-teste de Conhencimento (respostas) (1).xlsx')\n",
        "# pos_teste_df.head(2)"
      ]
    },
    {
      "cell_type": "code",
      "execution_count": 648,
      "metadata": {},
      "outputs": [],
      "source": [
        "caracterizacao = pd.read_excel(data_path / 'Formulário de Recrutamento e Caracterização dos Participantes (respostas).xlsx')\n",
        "# caracterizacao.head()"
      ]
    },
    {
      "cell_type": "code",
      "execution_count": 649,
      "metadata": {},
      "outputs": [
        {
          "data": {
            "text/plain": [
              "41"
            ]
          },
          "execution_count": 649,
          "metadata": {},
          "output_type": "execute_result"
        }
      ],
      "source": [
        "len(caracterizacao)"
      ]
    },
    {
      "cell_type": "code",
      "execution_count": 650,
      "metadata": {},
      "outputs": [
        {
          "data": {
            "text/plain": [
              "Como você autoavalia seu nível de conhecimento em desenvolvimento de sistemas para web?\n",
              "Eu participei de exercícios práticos em sala de aula.                       17\n",
              "Eu tive aulas sobre isso.                                                    9\n",
              "Eu não tenho familiaridade prévia com isso.                                  7\n",
              "Eu apliquei isso em um projeto industrial.                                   5\n",
              "Eu realizei pesquisas prévias em fontes da literatura e recursos online.     3\n",
              "Name: count, dtype: int64"
            ]
          },
          "execution_count": 650,
          "metadata": {},
          "output_type": "execute_result"
        }
      ],
      "source": [
        "caracterizacao['Como você autoavalia seu nível de conhecimento em desenvolvimento de sistemas para web?'].value_counts()"
      ]
    },
    {
      "cell_type": "code",
      "execution_count": 651,
      "metadata": {},
      "outputs": [
        {
          "data": {
            "text/plain": [
              "Como você autoavalia seu nível de conhecimento em segurança de software (ou informação)?\n",
              "Eu tive aulas sobre isso.                                                   25\n",
              "Eu participei de exercícios práticos em sala de aula.                       11\n",
              "Eu realizei pesquisas prévias em fontes da literatura e recursos online.     3\n",
              "Eu não tenho familiaridade prévia com isso.                                  1\n",
              "Eu apliquei isso em um projeto industrial.                                   1\n",
              "Name: count, dtype: int64"
            ]
          },
          "execution_count": 651,
          "metadata": {},
          "output_type": "execute_result"
        }
      ],
      "source": [
        "caracterizacao['Como você autoavalia seu nível de conhecimento em segurança de software (ou informação)?'].value_counts()"
      ]
    },
    {
      "cell_type": "code",
      "execution_count": 652,
      "metadata": {},
      "outputs": [],
      "source": [
        "def question_map(x):\n",
        "    if x in ['Eu tive aulas sobre isso.', 'Eu participei de exercícios práticos em sala de aula.', 'Eu realizei pesquisas prévias em fontes da literatura e recursos online.']:\n",
        "        return 'Medium'\n",
        "    elif x in ['Eu não tenho familiaridade prévia com isso.']:\n",
        "        return 'Low'\n",
        "    else:\n",
        "        return 'High'"
      ]
    },
    {
      "cell_type": "code",
      "execution_count": 653,
      "metadata": {},
      "outputs": [
        {
          "data": {
            "text/plain": [
              "Como você autoavalia seu nível de conhecimento em vulnerabilidades de segurança para sistemas web?\n",
              "Eu tive aulas sobre isso.                                                   24\n",
              "Eu participei de exercícios práticos em sala de aula.                        6\n",
              "Eu realizei pesquisas prévias em fontes da literatura e recursos online.     5\n",
              "Eu não tenho familiaridade prévia com isso.                                  5\n",
              "Eu apliquei isso em um projeto industrial.                                   1\n",
              "Name: count, dtype: int64"
            ]
          },
          "execution_count": 653,
          "metadata": {},
          "output_type": "execute_result"
        }
      ],
      "source": [
        "caracterizacao['Como você autoavalia seu nível de conhecimento em vulnerabilidades de segurança para sistemas web?'].value_counts()"
      ]
    },
    {
      "cell_type": "code",
      "execution_count": 654,
      "metadata": {},
      "outputs": [
        {
          "data": {
            "text/plain": [
              "Como você autoavalia seu nível de conhecimento em padrões de segurança para mitigar vulnerabilidades em sistemas web?\n",
              "Eu tive aulas sobre isso.                                                   21\n",
              "Eu realizei pesquisas prévias em fontes da literatura e recursos online.     8\n",
              "Eu não tenho familiaridade prévia com isso.                                  7\n",
              "Eu participei de exercícios práticos em sala de aula.                        5\n",
              "Name: count, dtype: int64"
            ]
          },
          "execution_count": 654,
          "metadata": {},
          "output_type": "execute_result"
        }
      ],
      "source": [
        "caracterizacao['Como você autoavalia seu nível de conhecimento em padrões de segurança para mitigar vulnerabilidades em sistemas web?'].value_counts()"
      ]
    },
    {
      "cell_type": "code",
      "execution_count": 655,
      "metadata": {
        "id": "KzdCTilbXhvm"
      },
      "outputs": [],
      "source": [
        "def get_acertos(df):\n",
        "    df = df.copy()\n",
        "    c = ['Carimbo de data/hora', 'Qual o seu nome?', 'Qual o seu e-mail?']\n",
        "    c.extend([f'Q{i}' for i in range(1, 13)])\n",
        "\n",
        "    df.columns = c\n",
        "\n",
        "    def acertou_q1(row):\n",
        "        return row['Q1'] == 'Um ataque de injection ocorre quando um sistema permite que dados maliciosos sejam injetados em entradas não validadas, como formulários. Sistemas que validam e sanitizam entradas corretamente podem impedir que esses ataques sejam bem-sucedidos, protegendo a integridade dos dados e do sistema.'\n",
        "\n",
        "    def acertou_q2(row):\n",
        "        return row['Q2'] == 'Vazamento de dados sensíveis, como senhas e informações pessoais.'\n",
        "\n",
        "    def acertou_q3(row):\n",
        "        return row['Q3'] == '1 → A, 2 → B, 3 → C, 4 → D'\n",
        "\n",
        "    def acertou_q4(row):\n",
        "        return row['Q4'] == 'Implementação de Políticas de Privilégio Mínimo e Access Control'\n",
        "\n",
        "    def acertou_q5(row):\n",
        "        return row['Q5'] == 'Validação de entrada do usuário apenas no frontend antes de enviar os dados ao servidor.'\n",
        "\n",
        "    def acertou_q6(row):\n",
        "        return row['Q6'] == 'Permitem identificar atividades suspeitas e responder rapidamente a incidentes.'\n",
        "\n",
        "    def acertou_q7(row):\n",
        "        return row['Q7'] == 'Usar um algoritmo de hash forte, como bcrypt, Argon2 ou PBKDF2, com um salt único para cada senha.'\n",
        "\n",
        "    def acertou_q8(row):\n",
        "        return row['Q8'] == 'Implementação de controle de acesso no frontend sem reforço no backend.'\n",
        "\n",
        "    def acertou_q9(row):\n",
        "        return row['Q9'] == 'Implementar criptografia robusta de dados sensíveis, como números de cartão de crédito, e usar autenticação multifatorial para acesso administrativo.'\n",
        "\n",
        "    def acertou_q10(row):\n",
        "        return row['Q10'] == 'Implementar assinaturas digitais no código-fonte e usar um sistema de controle de versões que registre todas as alterações, com auditoria rigorosa.'\n",
        "\n",
        "    def acertou_q11(row):\n",
        "        return row['Q11'] == 'Broken Access Control'\n",
        "\n",
        "    def acertou_q12(row):\n",
        "        return row['Q12'] == 'Manipulação de código ou dados (exploiting software integrity)'\n",
        "\n",
        "    df['acertou_q1'] = df.apply(acertou_q1, axis=1)\n",
        "    df['acertou_q2'] = df.apply(acertou_q2, axis=1)\n",
        "    df['acertou_q3'] = df.apply(acertou_q3, axis=1)\n",
        "    df['acertou_q4'] = df.apply(acertou_q4, axis=1)\n",
        "    df['acertou_q5'] = df.apply(acertou_q5, axis=1)\n",
        "    df['acertou_q6'] = df.apply(acertou_q6, axis=1)\n",
        "    df['acertou_q7'] = df.apply(acertou_q7, axis=1)\n",
        "    df['acertou_q8'] = df.apply(acertou_q8, axis=1)\n",
        "    df['acertou_q9'] = df.apply(acertou_q9, axis=1)\n",
        "    df['acertou_q10'] = df.apply(acertou_q10, axis=1)\n",
        "    df['acertou_q11'] = df.apply(acertou_q11, axis=1)\n",
        "    df['acertou_q12'] = df.apply(acertou_q12, axis=1)\n",
        "\n",
        "    acertos_colunas = [f'acertou_q{i}' for i in range(1, 13)]\n",
        "    df['acertos'] = df[acertos_colunas].sum(axis=1)\n",
        "    results = df[['Qual o seu nome?','Qual o seu e-mail?', 'acertos']].copy()\n",
        "    results.columns = ['Nome', 'E-mail', 'Acertos']\n",
        "\n",
        "    return results"
      ]
    },
    {
      "cell_type": "code",
      "execution_count": 656,
      "metadata": {
        "colab": {
          "base_uri": "https://localhost:8080/",
          "height": 551
        },
        "id": "WiRLB-YvTlpT",
        "outputId": "61385f28-7f3d-4e2a-84da-69710485be4b"
      },
      "outputs": [],
      "source": [
        "acertos_pos = get_acertos(pos_teste_df)\n",
        "# acertos_pos"
      ]
    },
    {
      "cell_type": "code",
      "execution_count": 657,
      "metadata": {
        "colab": {
          "base_uri": "https://localhost:8080/",
          "height": 1000
        },
        "id": "wMdthdGRNtru",
        "outputId": "99822a7a-930c-4fa0-8af4-9744b3efcebd"
      },
      "outputs": [],
      "source": [
        "#participantes do pre-teste que estão no pos-teste\n",
        "mesmos_participantes = pre_teste_df[pre_teste_df[\"Qual o seu e-mail?\"].isin(pos_teste_df[\"Qual o seu e-mail?\"])].copy()\n",
        "# mesmos_participantes.head(2)"
      ]
    },
    {
      "cell_type": "code",
      "execution_count": 658,
      "metadata": {
        "colab": {
          "base_uri": "https://localhost:8080/",
          "height": 551
        },
        "id": "l_s9q_0Ucb_z",
        "outputId": "04b55507-8c19-4a7e-9b0e-4650c4e71766"
      },
      "outputs": [],
      "source": [
        "acertos_pre = get_acertos(mesmos_participantes)\n",
        "# acertos_pre"
      ]
    },
    {
      "cell_type": "code",
      "execution_count": 659,
      "metadata": {
        "colab": {
          "base_uri": "https://localhost:8080/",
          "height": 551
        },
        "id": "4f1YTaQ3UzFM",
        "outputId": "2cc59e03-0118-4608-e169-390f0b78ab70"
      },
      "outputs": [],
      "source": [
        "juntos = pd.merge(acertos_pre, acertos_pos[['E-mail', 'Acertos']], on='E-mail', suffixes=('_pos_aula', '_pos_jogo'))\n",
        "# juntos"
      ]
    },
    {
      "cell_type": "markdown",
      "metadata": {
        "id": "0qknJvKPr8xv"
      },
      "source": [
        "### Verificando a normalidade"
      ]
    },
    {
      "cell_type": "code",
      "execution_count": 660,
      "metadata": {
        "colab": {
          "base_uri": "https://localhost:8080/"
        },
        "id": "8jn3tJX6esCa",
        "outputId": "5c9e2b37-b328-45e0-9a92-2ed14a7046e0"
      },
      "outputs": [
        {
          "name": "stdout",
          "output_type": "stream",
          "text": [
            "Shapiro-Wilk p-valor: 0.2180\n",
            "As diferenças seguem uma distribuição aproximadamente normal. Podemos usar o teste t pareado.\n"
          ]
        }
      ],
      "source": [
        "juntos[\"Diferenca\"] = juntos[\"Acertos_pos_jogo\"] - juntos[\"Acertos_pos_aula\"]\n",
        "\n",
        "#teste de normalidade\n",
        "shapiro_test = stats.shapiro(juntos[\"Diferenca\"])\n",
        "print(f\"Shapiro-Wilk p-valor: {shapiro_test.pvalue:.4f}\")\n",
        "\n",
        "if shapiro_test.pvalue > 0.05:\n",
        "    print(\"As diferenças seguem uma distribuição aproximadamente normal. Podemos usar o teste t pareado.\")\n",
        "else:\n",
        "    print(\"As diferenças não seguem uma distribuição normal.\")"
      ]
    },
    {
      "cell_type": "code",
      "execution_count": 661,
      "metadata": {},
      "outputs": [
        {
          "data": {
            "text/plain": [
              "0     1\n",
              "1     2\n",
              "2     2\n",
              "3     0\n",
              "4     0\n",
              "5     1\n",
              "6    -2\n",
              "7    -1\n",
              "8    -1\n",
              "9     0\n",
              "10    2\n",
              "11    0\n",
              "12    1\n",
              "13    0\n",
              "14   -1\n",
              "15    1\n",
              "Name: Diferenca, dtype: int64"
            ]
          },
          "execution_count": 661,
          "metadata": {},
          "output_type": "execute_result"
        }
      ],
      "source": [
        "juntos[\"Diferenca\"]"
      ]
    },
    {
      "cell_type": "code",
      "execution_count": 662,
      "metadata": {},
      "outputs": [
        {
          "data": {
            "text/plain": [
              "array([ 1,  2,  2,  0,  0,  1, -2, -1, -1,  0,  2,  0,  1,  0, -1,  1])"
            ]
          },
          "execution_count": 662,
          "metadata": {},
          "output_type": "execute_result"
        }
      ],
      "source": [
        "juntos['Diferenca'].values"
      ]
    },
    {
      "cell_type": "code",
      "execution_count": 663,
      "metadata": {},
      "outputs": [
        {
          "data": {
            "image/png": "[encoded data removed]",
            "text/plain": [
              "<Figure size 1000x600 with 1 Axes>"
            ]
          },
          "metadata": {},
          "output_type": "display_data"
        }
      ],
      "source": [
        "fig, ax = plt.subplots(figsize=(10, 6))\n",
        "ax.bar(x=[f\"P{i}\" for i in range(1, 17)], height=juntos['Diferenca'].values, color='blue')\n",
        "# ax.set_xticks(ticks=np.arange(0, len(juntos['Diferenca'])), labels=[f\"P{i}\" for i in range(1, 17)])\n",
        "ax.set_yticks(ticks=[-2, -1, 0, 1, 2])\n",
        "# sns.despine(left=True)\n",
        "plt.show()"
      ]
    },
    {
      "cell_type": "code",
      "execution_count": 664,
      "metadata": {},
      "outputs": [
        {
          "name": "stdout",
          "output_type": "stream",
          "text": [
            "Numero de participantes: 16\n",
            "Numero de participantes que acertaram mais no jogo: 7\n",
            "Numero de participantes que acertaram mais na aula: 4\n",
            "Numero de participantes que acertaram o mesmo número de perguntas: 5\n"
          ]
        }
      ],
      "source": [
        "print(\"Numero de participantes:\", len(juntos))\n",
        "print(\"Numero de participantes que acertaram mais no jogo:\", len(juntos[juntos[\"Diferenca\"] > 0]))\n",
        "print(\"Numero de participantes que acertaram mais na aula:\", len(juntos[juntos[\"Diferenca\"] < 0]))\n",
        "print(\"Numero de participantes que acertaram o mesmo número de perguntas:\", len(juntos[juntos[\"Diferenca\"] == 0]))"
      ]
    },
    {
      "cell_type": "markdown",
      "metadata": {},
      "source": [
        "### Análise de IRA"
      ]
    },
    {
      "cell_type": "code",
      "execution_count": 665,
      "metadata": {},
      "outputs": [],
      "source": [
        "# juntos.head()"
      ]
    },
    {
      "cell_type": "code",
      "execution_count": 666,
      "metadata": {},
      "outputs": [],
      "source": [
        "juntos['Nome'] = juntos[\"Nome\"].str.lower().str.strip()\n",
        "juntos = juntos.sort_values(by='Nome')\n",
        "fix_names = {\n",
        "    \"caua de sousa brandão\": \"cauã de sousa brandão\",\n",
        "    \"emanuel avila cruz pires\": \"emanuel ávila cruz pires\"\n",
        "}\n",
        "\n",
        "\n",
        "juntos['Nome'] = juntos['Nome'].replace(fix_names)\n",
        "# juntos"
      ]
    },
    {
      "cell_type": "code",
      "execution_count": 667,
      "metadata": {},
      "outputs": [],
      "source": [
        "experimento_exp = experimento[experimento['Grupo'] == 'Experimental'].copy()\n",
        "experimento_exp['Nome'] = experimento_exp['Nome'].str.lower().str.strip()\n",
        "experimento_exp = experimento_exp.sort_values(by='Nome')\n",
        "# experimento_exp"
      ]
    },
    {
      "cell_type": "code",
      "execution_count": 668,
      "metadata": {},
      "outputs": [],
      "source": [
        "juntos = juntos.merge(experimento_exp[['Nome', 'Curso', 'Nota do IRA Individual', 'Faixa IRA']], how='left', on='Nome')\n",
        "# juntos = juntos.drop([\"Nome\", \"E-mail\"], axis=1)\n",
        "# juntos"
      ]
    },
    {
      "cell_type": "markdown",
      "metadata": {},
      "source": [
        "#### Verificando diferenças por ira"
      ]
    },
    {
      "cell_type": "code",
      "execution_count": 669,
      "metadata": {},
      "outputs": [
        {
          "data": {
            "image/png": "[encoded data removed]",
            "text/plain": [
              "<Figure size 640x480 with 1 Axes>"
            ]
          },
          "metadata": {},
          "output_type": "display_data"
        }
      ],
      "source": [
        "ax = pd.crosstab(index=juntos['Diferenca'], columns=juntos[\"Faixa IRA\"]).plot(kind='bar', stacked=True)\n",
        "\n",
        "# Adicionando os rótulos\n",
        "for container in ax.containers:\n",
        "    # Adiciona rótulo apenas se o valor for maior que 0\n",
        "    for bar in container:\n",
        "        height = bar.get_height()\n",
        "        if height > 0:\n",
        "            ax.annotate(f'{int(height)}',\n",
        "                        xy=(bar.get_x() + bar.get_width() / 2, bar.get_y() + height / 2),\n",
        "                        ha='center', va='center', fontsize=12, color='white', weight='bold')\n",
        "\n",
        "plt.tight_layout()\n",
        "plt.show()"
      ]
    },
    {
      "cell_type": "markdown",
      "metadata": {},
      "source": [
        "- uma pessoa com ira alto diminuiu a pontuação em 2;\n",
        "- duas pessoas com ira alto e uma com ira baixo diminuiram a pontuação em 1;\n",
        "- 3 das 4 pessoas que aumentaram a pontuação em 1 tinham ira baixo, indicando que o jogo ajudou pessoas com ira baixo;\n",
        "- o mesmo acontece com pessoa que aumentaram a pontuação em 2, com 2 das 3 pessoas tendo ira baixo."
      ]
    },
    {
      "cell_type": "markdown",
      "metadata": {},
      "source": [
        "#### Verificando diferenças por Curso"
      ]
    },
    {
      "cell_type": "code",
      "execution_count": 670,
      "metadata": {},
      "outputs": [
        {
          "data": {
            "image/png": "[encoded data removed]",
            "text/plain": [
              "<Figure size 1200x500 with 1 Axes>"
            ]
          },
          "metadata": {},
          "output_type": "display_data"
        }
      ],
      "source": [
        "ax = pd.crosstab(index=juntos['Diferenca'], columns=juntos[\"Curso\"]).plot(kind='bar', stacked=True, figsize=(12, 5))\n",
        "\n",
        "# Adicionando os rótulos\n",
        "for container in ax.containers:\n",
        "    # Adiciona rótulo apenas se o valor for maior que 0\n",
        "    for bar in container:\n",
        "        height = bar.get_height()\n",
        "        if height > 0:\n",
        "            ax.annotate(f'{int(height)}',\n",
        "                        xy=(bar.get_x() + bar.get_width() / 2, bar.get_y() + height / 2),\n",
        "                        ha='center', va='center', fontsize=12, color='white', weight='bold')\n",
        "\n",
        "plt.tight_layout()\n",
        "plt.show()"
      ]
    },
    {
      "cell_type": "markdown",
      "metadata": {},
      "source": [
        "- uma pessoa de si diminuiu a pontuação em 2;\n",
        "- 2 das 3 pessoas que diminuiram a pontuação em 1 eram de si;\n",
        "- 4 das 5 pessoas que manteram a pontuação eram de ADS;\n",
        "- 2 das 3 pessoas que aumentaram a pontuação eram de si"
      ]
    },
    {
      "cell_type": "markdown",
      "metadata": {},
      "source": [
        "### Realizando o teste"
      ]
    },
    {
      "cell_type": "markdown",
      "metadata": {
        "id": "-LDYjKO5ivJ0"
      },
      "source": [
        "Há uma diferença significativa entre as médias das duas condições(antes e depois do teste)?\n",
        "\n",
        "- **H₀ (Hipótese Nula):** A média das diferenças entre os pares é zero (𝜇𝑑 = 0). Ou seja, não há impacto significativo do jogo nos acertos.\n",
        "- **H₁ (Hipótese Alternativa):** A média das diferenças entre os pares é diferente de zero (𝜇𝑑 ≠ 0). Ou seja, o jogo teve um impacto nos acertos."
      ]
    },
    {
      "cell_type": "code",
      "execution_count": 671,
      "metadata": {
        "colab": {
          "base_uri": "https://localhost:8080/"
        },
        "id": "8-yzRLK5hhEg",
        "outputId": "c4b0657a-e407-4a8d-8fae-9d1f866f5382"
      },
      "outputs": [
        {
          "name": "stdout",
          "output_type": "stream",
          "text": [
            "t-statistic: 1.0456\n",
            "p-value: 0.3123\n",
            "Não rejeitamos a hipótese nula. Não há evidências de diferença significativa nos acertos antes e depois do jogo.\n"
          ]
        }
      ],
      "source": [
        "#teste t pareado\n",
        "t_stat, p_value = stats.ttest_rel(juntos[\"Acertos_pos_jogo\"], juntos[\"Acertos_pos_aula\"])\n",
        "\n",
        "print(f\"t-statistic: {t_stat:.4f}\")\n",
        "print(f\"p-value: {p_value:.4f}\")\n",
        "\n",
        "if p_value < 0.05:\n",
        "    print(\"Rejeitamos a hipótese nula. Houve uma diferença significativa nos acertos antes e depois do jogo.\")\n",
        "else:\n",
        "    print(\"Não rejeitamos a hipótese nula. Não há evidências de diferença significativa nos acertos antes e depois do jogo.\")\n"
      ]
    },
    {
      "cell_type": "code",
      "execution_count": 672,
      "metadata": {
        "colab": {
          "base_uri": "https://localhost:8080/"
        },
        "id": "gnRWJiz6ol7R",
        "outputId": "d39c69af-bc2a-4e76-cbab-0dec9d27a158"
      },
      "outputs": [
        {
          "name": "stdout",
          "output_type": "stream",
          "text": [
            "Tamanho do efeito (Cohen’s d): 0.2614\n"
          ]
        }
      ],
      "source": [
        "# impacto real do jogo, não apenas se há diferença.\n",
        "\n",
        "diff = juntos[\"Acertos_pos_jogo\"] - juntos[\"Acertos_pos_aula\"]\n",
        "\n",
        "cohen_d = np.mean(diff) / np.std(diff, ddof=1)\n",
        "print(f\"Tamanho do efeito (Cohen’s d): {cohen_d:.4f}\")"
      ]
    },
    {
      "cell_type": "markdown",
      "metadata": {
        "id": "dcK929-Prytm"
      },
      "source": [
        "Como o tamanho do efeito foi de 0.2614, isso significa que, mesmo que houvesse uma pequena diferença, o efeito é fraco, ou seja, o impacto prático é pequeno (o impacto do jogo no desempenho dos jogadores foi mínimo)."
      ]
    },
    {
      "cell_type": "markdown",
      "metadata": {},
      "source": [
        "analisar o ira, achar uma maneira de identificar os participantes, p1, p2 etc"
      ]
    },
    {
      "cell_type": "markdown",
      "metadata": {},
      "source": [
        "### Utilizando o wilcoxon"
      ]
    },
    {
      "cell_type": "code",
      "execution_count": 673,
      "metadata": {},
      "outputs": [
        {
          "name": "stdout",
          "output_type": "stream",
          "text": [
            "t-statistic: 21.5000\n",
            "p-value: 0.2903\n",
            "Não rejeitamos a hipótese nula. Não há evidências de diferença significativa nos acertos antes e depois do jogo.\n"
          ]
        }
      ],
      "source": [
        "#teste t pareado\n",
        "t_stat, p_value = stats.wilcoxon(juntos[\"Acertos_pos_jogo\"], juntos[\"Acertos_pos_aula\"])\n",
        "\n",
        "print(f\"t-statistic: {t_stat:.4f}\")\n",
        "print(f\"p-value: {p_value:.4f}\")\n",
        "\n",
        "if p_value < 0.05:\n",
        "    print(\"Rejeitamos a hipótese nula. Houve uma diferença significativa nos acertos antes e depois do jogo.\")\n",
        "else:\n",
        "    print(\"Não rejeitamos a hipótese nula. Não há evidências de diferença significativa nos acertos antes e depois do jogo.\")"
      ]
    },
    {
      "cell_type": "markdown",
      "metadata": {},
      "source": [
        "## Controle X Experimental"
      ]
    },
    {
      "cell_type": "code",
      "execution_count": 674,
      "metadata": {
        "id": "ZP_N5dIOokI3"
      },
      "outputs": [],
      "source": [
        "controle = pre_teste_df[~pre_teste_df[\"Qual o seu e-mail?\"].isin(pos_teste_df[\"Qual o seu e-mail?\"])].copy()\n",
        "experimental = pos_teste_df.copy()"
      ]
    },
    {
      "cell_type": "code",
      "execution_count": 675,
      "metadata": {
        "id": "v00LfXxlvOxp"
      },
      "outputs": [],
      "source": [
        "controle = controle.drop([2, 7, 19, 33], axis=0)"
      ]
    },
    {
      "cell_type": "code",
      "execution_count": 676,
      "metadata": {
        "colab": {
          "base_uri": "https://localhost:8080/",
          "height": 551
        },
        "id": "L0awsCjhq2-0",
        "outputId": "7111be4e-830c-482a-8c4e-5a0483b902ee"
      },
      "outputs": [],
      "source": [
        "acertos_controle = get_acertos(controle)\n",
        "# acertos_controle"
      ]
    },
    {
      "cell_type": "code",
      "execution_count": 677,
      "metadata": {
        "colab": {
          "base_uri": "https://localhost:8080/",
          "height": 551
        },
        "id": "hY-wAx5FrCY9",
        "outputId": "8e4737fe-28e8-4608-b2a0-e854db1b39e2"
      },
      "outputs": [],
      "source": [
        "acertos_experimental = get_acertos(experimental)\n",
        "# acertos_experimental"
      ]
    },
    {
      "cell_type": "code",
      "execution_count": 678,
      "metadata": {
        "colab": {
          "base_uri": "https://localhost:8080/"
        },
        "id": "bEhItyBPvCl7",
        "outputId": "1fa61fad-232e-472d-f082-6252c373539c"
      },
      "outputs": [
        {
          "name": "stdout",
          "output_type": "stream",
          "text": [
            "Média do grupo controle: 10.12\n",
            "Média do grupo experimental: 8.75\n"
          ]
        }
      ],
      "source": [
        "media_controle = acertos_controle['Acertos'].mean()\n",
        "media_experimental = acertos_experimental['Acertos'].mean()\n",
        "\n",
        "print(f\"Média do grupo controle: {media_controle:.2f}\")\n",
        "print(f\"Média do grupo experimental: {media_experimental:.2f}\")"
      ]
    },
    {
      "cell_type": "code",
      "execution_count": 679,
      "metadata": {},
      "outputs": [],
      "source": [
        "# consertando um erro de digitação\n",
        "experimento.loc[experimento['Nome'] == 'Luis Carlos de Carvalho F. Filho', 'Faixa IRA'] = 'Baixo'\n",
        "\n",
        "experimento['Nome'] = experimento['Nome'].str.strip().str.lower()\n",
        "acertos_controle['Nome'] = acertos_controle['Nome'].str.strip().str.lower()\n",
        "acertos_experimental['Nome'] = acertos_experimental['Nome'].str.strip().str.lower()\n",
        "\n",
        "\n",
        "ira_controle = experimento.loc[experimento['Grupo'] == 'Controle'].sort_values(by='Nome')\n",
        "ira_experimental = experimento.loc[experimento['Grupo'] == 'Experimental'].sort_values(by='Nome')\n",
        "\n",
        "# ira_controle"
      ]
    },
    {
      "cell_type": "code",
      "execution_count": 680,
      "metadata": {},
      "outputs": [],
      "source": [
        "# ira_experimental"
      ]
    },
    {
      "cell_type": "markdown",
      "metadata": {},
      "source": [
        "### Análise do IRA"
      ]
    },
    {
      "cell_type": "code",
      "execution_count": 681,
      "metadata": {},
      "outputs": [
        {
          "data": {
            "text/plain": [
              "Faixa IRA\n",
              "Baixo    8\n",
              "Alto     8\n",
              "Name: count, dtype: int64"
            ]
          },
          "execution_count": 681,
          "metadata": {},
          "output_type": "execute_result"
        }
      ],
      "source": [
        "ira_controle['Faixa IRA'].value_counts()"
      ]
    },
    {
      "cell_type": "code",
      "execution_count": 682,
      "metadata": {},
      "outputs": [
        {
          "data": {
            "text/plain": [
              "Faixa IRA\n",
              "Baixo    8\n",
              "Alto     8\n",
              "Name: count, dtype: int64"
            ]
          },
          "execution_count": 682,
          "metadata": {},
          "output_type": "execute_result"
        }
      ],
      "source": [
        "ira_experimental['Faixa IRA'].value_counts()"
      ]
    },
    {
      "cell_type": "code",
      "execution_count": 683,
      "metadata": {},
      "outputs": [
        {
          "data": {
            "image/png": "[encoded data removed]",
            "text/plain": [
              "<Figure size 1200x600 with 2 Axes>"
            ]
          },
          "metadata": {},
          "output_type": "display_data"
        }
      ],
      "source": [
        "import matplotlib.pyplot as plt\n",
        "import seaborn as sns\n",
        "\n",
        "sns.set(style=\"whitegrid\", palette=\"pastel\")\n",
        "\n",
        "fig, ax = plt.subplots(1, 2, figsize=(12, 6), sharey=True)\n",
        "\n",
        "# Função para adicionar média e mediana\n",
        "def add_stats(ax, data):\n",
        "    mean = data['Nota do IRA Individual'].mean()\n",
        "    median = data['Nota do IRA Individual'].median()\n",
        "    \n",
        "    ax.axhline(mean, color='blue', linestyle='--', linewidth=1.5, label='Média')\n",
        "    ax.axhline(median, color='green', linestyle='-.', linewidth=1.5, label='Mediana')\n",
        "    \n",
        "    # Adiciona os textos em posições diferentes\n",
        "    ax.text(0.05, mean, f'Média: {mean:.2f}', color='blue', va='bottom', ha='left', \n",
        "            transform=ax.get_yaxis_transform())\n",
        "    ax.text(0.85, median, f'Mediana: {median:.2f}', color='green', va='bottom', ha='right', \n",
        "            transform=ax.get_yaxis_transform())\n",
        "\n",
        "# Grupo controle\n",
        "sns.boxplot(y='Nota do IRA Individual', data=ira_controle, ax=ax[0], color='#add8e6')\n",
        "ax[0].set_title('Control')\n",
        "add_stats(ax[0], ira_controle)\n",
        "\n",
        "# Grupo experimental\n",
        "sns.boxplot(y='Nota do IRA Individual', data=ira_experimental, ax=ax[1], color='#ffcccb')\n",
        "ax[1].set_title('Experimental')\n",
        "add_stats(ax[1], ira_experimental)\n",
        "\n",
        "# Eixos e layout\n",
        "for a in ax:\n",
        "    a.set_ylabel('Individual IRA')\n",
        "    a.set_xlabel('')\n",
        "    a.legend(loc='lower right')\n",
        "\n",
        "plt.suptitle('IRA (Academic Performance Index) by Group', fontsize=16)\n",
        "plt.tight_layout(rect=[0, 0, 1, 0.95])\n",
        "plt.savefig('ira_boxplot.pdf', dpi=300, bbox_inches='tight')\n",
        "plt.show()\n"
      ]
    },
    {
      "cell_type": "markdown",
      "metadata": {
        "id": "JCDwTHp3sAzw"
      },
      "source": [
        "#### Verificando a normalidade"
      ]
    },
    {
      "cell_type": "code",
      "execution_count": 684,
      "metadata": {
        "colab": {
          "base_uri": "https://localhost:8080/"
        },
        "id": "HkGSQTOjragR",
        "outputId": "d27b7be4-53a1-4b2c-fed3-7c37b9489bdb"
      },
      "outputs": [
        {
          "name": "stdout",
          "output_type": "stream",
          "text": [
            "Shapiro-Wilk p-valor (controle): 0.0389\n",
            "O grupo controle não segue uma distribuição normal.\n",
            "Shapiro-Wilk p-valor (experimental): 0.3536\n",
            "O grupo experimental segue uma distribuição aproximadamente normal.\n"
          ]
        }
      ],
      "source": [
        "# controle\n",
        "shapiro_test = stats.shapiro(acertos_controle['Acertos'])\n",
        "print(f\"Shapiro-Wilk p-valor (controle): {shapiro_test.pvalue:.4f}\")\n",
        "\n",
        "if shapiro_test.pvalue > 0.05:\n",
        "    print(\"O grupo controle segue uma distribuição aproximadamente normal.\")\n",
        "else:\n",
        "    print(\"O grupo controle não segue uma distribuição normal.\")\n",
        "\n",
        "shapiro_test = stats.shapiro(acertos_experimental['Acertos'])\n",
        "\n",
        "print(f\"Shapiro-Wilk p-valor (experimental): {shapiro_test.pvalue:.4f}\")\n",
        "\n",
        "if shapiro_test.pvalue > 0.05:\n",
        "    print(\"O grupo experimental segue uma distribuição aproximadamente normal.\")\n",
        "else:\n",
        "    print(\"O grupo experimental não segue uma distribuição normal.\")"
      ]
    },
    {
      "cell_type": "markdown",
      "metadata": {
        "id": "WRV1yeVusqKC"
      },
      "source": [
        "- como um dus grupos não segue uma distribuição normal, usaremos um teste não paramétrico"
      ]
    },
    {
      "cell_type": "markdown",
      "metadata": {
        "id": "nGS5kSRIs1Fg"
      },
      "source": [
        "Há uma diferença significativa entre as médias entre os grupos?\n",
        "\n",
        "- **H₀ (Hipótese Nula):** A média das diferenças entre os grupos é zero (𝜇𝑑 = 0).\n",
        "- **H₁ (Hipótese Alternativa):** A média das diferenças entre os grupos é diferente de zero (𝜇𝑑 ≠ 0)."
      ]
    },
    {
      "cell_type": "code",
      "execution_count": 685,
      "metadata": {
        "colab": {
          "base_uri": "https://localhost:8080/"
        },
        "id": "Six0ytJ-slx6",
        "outputId": "b898e9dd-6ff9-4eb3-a499-2718acf75f63"
      },
      "outputs": [
        {
          "name": "stdout",
          "output_type": "stream",
          "text": [
            "U-statistic: 83.0000\n",
            "p-value: 0.0883\n",
            "Não rejeitamos a hipótese nula. Não há evidências de diferença significativa entre as médias entre os grupos.\n"
          ]
        }
      ],
      "source": [
        "u_stat, p_value = stats.mannwhitneyu(acertos_experimental['Acertos'], acertos_controle['Acertos'])\n",
        "\n",
        "print(f\"U-statistic: {u_stat:.4f}\")\n",
        "print(f\"p-value: {p_value:.4f}\")\n",
        "\n",
        "if p_value < 0.05:\n",
        "    print(\"Rejeitamos a hipótese nula. Há uma diferença significativa entre as médias entre os grupos.\")\n",
        "else:\n",
        "    print(\"Não rejeitamos a hipótese nula. Não há evidências de diferença significativa entre as médias entre os grupos.\")"
      ]
    },
    {
      "cell_type": "code",
      "execution_count": 686,
      "metadata": {
        "colab": {
          "base_uri": "https://localhost:8080/"
        },
        "id": "vqo2LN93tQD0",
        "outputId": "48d921ed-1904-4914-d35d-5fab9f220203"
      },
      "outputs": [
        {
          "name": "stdout",
          "output_type": "stream",
          "text": [
            "r de Rank-Biserial: -0.301\n"
          ]
        }
      ],
      "source": [
        "# Obtendo o valor Z\n",
        "z_value = stats.norm.ppf(p_value / 2)\n",
        "\n",
        "# Calculando r\n",
        "N = len(acertos_controle) + len(acertos_experimental)\n",
        "r = z_value / np.sqrt(N)\n",
        "\n",
        "print(f\"r de Rank-Biserial: {r:.3f}\")"
      ]
    },
    {
      "cell_type": "code",
      "execution_count": 687,
      "metadata": {
        "id": "tZAb7tD8uKsg"
      },
      "outputs": [],
      "source": [
        "u_stat, _ = stats.mannwhitneyu(acertos_controle['Acertos'], acertos_experimental['Acertos'])\n",
        "n1, n2 = len(experimental), len(controle)\n",
        "r = 1 - (2 * u_stat) / (n1 * n2)  # positivo = experimental > controle"
      ]
    },
    {
      "cell_type": "code",
      "execution_count": 688,
      "metadata": {},
      "outputs": [
        {
          "data": {
            "text/plain": [
              "np.float64(-0.3515625)"
            ]
          },
          "execution_count": 688,
          "metadata": {},
          "output_type": "execute_result"
        }
      ],
      "source": [
        "r"
      ]
    },
    {
      "cell_type": "markdown",
      "metadata": {},
      "source": [
        "## Gain Analysis"
      ]
    },
    {
      "cell_type": "code",
      "execution_count": 689,
      "metadata": {},
      "outputs": [],
      "source": [
        "juntos['Normalized_Gain'] = (juntos['Acertos_pos_jogo'] - juntos['Acertos_pos_aula']) / (12 - juntos['Acertos_pos_aula'])\n",
        "\n",
        "def ngain_map(x):\n",
        "    if -1 <= x < 0:\n",
        "        return \"Decrease\"\n",
        "    elif x == 0:\n",
        "        return \"Stable\"\n",
        "    elif 0 < x < 0.3:\n",
        "        return \"Low\"\n",
        "    elif 0.3 <= x < 0.7:\n",
        "        return \"Average\"\n",
        "    elif 0.7 <= x <= 1:\n",
        "        return \"High\"\n",
        "    else:\n",
        "        return \"Out of Range\"\n",
        "    \n",
        "juntos['Normalized_Gain_Interpretation'] = juntos['Normalized_Gain'].map(ngain_map)"
      ]
    },
    {
      "cell_type": "code",
      "execution_count": 690,
      "metadata": {},
      "outputs": [
        {
          "data": {
            "text/html": [
              "<div>\n",
              "<style scoped>\n",
              "    .dataframe tbody tr th:only-of-type {\n",
              "        vertical-align: middle;\n",
              "    }\n",
              "\n",
              "    .dataframe tbody tr th {\n",
              "        vertical-align: top;\n",
              "    }\n",
              "\n",
              "    .dataframe thead th {\n",
              "        text-align: right;\n",
              "    }\n",
              "</style>\n",
              "<table border=\"1\" class=\"dataframe\">\n",
              "  <thead>\n",
              "    <tr style=\"text-align: right;\">\n",
              "      <th></th>\n",
              "      <th>Nome</th>\n",
              "      <th>E-mail</th>\n",
              "      <th>Acertos_pos_aula</th>\n",
              "      <th>Acertos_pos_jogo</th>\n",
              "      <th>Diferenca</th>\n",
              "      <th>Curso</th>\n",
              "      <th>Nota do IRA Individual</th>\n",
              "      <th>Faixa IRA</th>\n",
              "      <th>Normalized_Gain</th>\n",
              "      <th>Normalized_Gain_Interpretation</th>\n",
              "    </tr>\n",
              "  </thead>\n",
              "  <tbody>\n",
              "    <tr>\n",
              "      <th>0</th>\n",
              "      <td>aline kelly de sousa lima</td>\n",
              "      <td>liinekelly10@alu.ufc.br</td>\n",
              "      <td>9</td>\n",
              "      <td>9</td>\n",
              "      <td>0</td>\n",
              "      <td>Analise e Desenvolvimento de Sistemas</td>\n",
              "      <td>7.3467</td>\n",
              "      <td>Baixo</td>\n",
              "      <td>0.000000</td>\n",
              "      <td>Stable</td>\n",
              "    </tr>\n",
              "    <tr>\n",
              "      <th>1</th>\n",
              "      <td>cauã de sousa brandão</td>\n",
              "      <td>brandao@alu.ufc.br</td>\n",
              "      <td>3</td>\n",
              "      <td>3</td>\n",
              "      <td>0</td>\n",
              "      <td>Analise e Desenvolvimento de Sistemas</td>\n",
              "      <td>7.1080</td>\n",
              "      <td>Baixo</td>\n",
              "      <td>0.000000</td>\n",
              "      <td>Stable</td>\n",
              "    </tr>\n",
              "    <tr>\n",
              "      <th>2</th>\n",
              "      <td>cássio davi matos dos santos</td>\n",
              "      <td>cassiomatos@alu.ufc.br</td>\n",
              "      <td>6</td>\n",
              "      <td>7</td>\n",
              "      <td>1</td>\n",
              "      <td>Segurança da Informação</td>\n",
              "      <td>7.2827</td>\n",
              "      <td>Baixo</td>\n",
              "      <td>0.166667</td>\n",
              "      <td>Low</td>\n",
              "    </tr>\n",
              "    <tr>\n",
              "      <th>3</th>\n",
              "      <td>emanuel ávila cruz pires</td>\n",
              "      <td>emanuel.pires@alu.ufc.br</td>\n",
              "      <td>10</td>\n",
              "      <td>12</td>\n",
              "      <td>2</td>\n",
              "      <td>Segurança da Informação</td>\n",
              "      <td>7.4241</td>\n",
              "      <td>Baixo</td>\n",
              "      <td>1.000000</td>\n",
              "      <td>High</td>\n",
              "    </tr>\n",
              "    <tr>\n",
              "      <th>4</th>\n",
              "      <td>esdras souza dos santos</td>\n",
              "      <td>souzaesdras@alu.ufc.br</td>\n",
              "      <td>9</td>\n",
              "      <td>9</td>\n",
              "      <td>0</td>\n",
              "      <td>Analise e Desenvolvimento de Sistemas</td>\n",
              "      <td>8.4547</td>\n",
              "      <td>Alto</td>\n",
              "      <td>0.000000</td>\n",
              "      <td>Stable</td>\n",
              "    </tr>\n",
              "    <tr>\n",
              "      <th>5</th>\n",
              "      <td>francisco de paulo mesquita júnior</td>\n",
              "      <td>paulojr00@alu.ufc.br</td>\n",
              "      <td>10</td>\n",
              "      <td>9</td>\n",
              "      <td>-1</td>\n",
              "      <td>Segurança da Informação</td>\n",
              "      <td>8.3567</td>\n",
              "      <td>Alto</td>\n",
              "      <td>-0.500000</td>\n",
              "      <td>Decrease</td>\n",
              "    </tr>\n",
              "    <tr>\n",
              "      <th>6</th>\n",
              "      <td>gabriel felix oliveira</td>\n",
              "      <td>gofelix1616@alu.ufc.br</td>\n",
              "      <td>10</td>\n",
              "      <td>10</td>\n",
              "      <td>0</td>\n",
              "      <td>Analise e Desenvolvimento de Sistemas</td>\n",
              "      <td>8.6633</td>\n",
              "      <td>Alto</td>\n",
              "      <td>0.000000</td>\n",
              "      <td>Stable</td>\n",
              "    </tr>\n",
              "    <tr>\n",
              "      <th>7</th>\n",
              "      <td>italo césar sampaio gomes pinto</td>\n",
              "      <td>italo.csr07@alu.ufc.br</td>\n",
              "      <td>8</td>\n",
              "      <td>8</td>\n",
              "      <td>0</td>\n",
              "      <td>Segurança da Informação</td>\n",
              "      <td>8.2867</td>\n",
              "      <td>Alto</td>\n",
              "      <td>0.000000</td>\n",
              "      <td>Stable</td>\n",
              "    </tr>\n",
              "    <tr>\n",
              "      <th>8</th>\n",
              "      <td>josé davi araujo gomes</td>\n",
              "      <td>jose.davi@alu.ufc.br</td>\n",
              "      <td>7</td>\n",
              "      <td>8</td>\n",
              "      <td>1</td>\n",
              "      <td>Analise e Desenvolvimento de Sistemas</td>\n",
              "      <td>7.6987</td>\n",
              "      <td>Baixo</td>\n",
              "      <td>0.200000</td>\n",
              "      <td>Low</td>\n",
              "    </tr>\n",
              "    <tr>\n",
              "      <th>9</th>\n",
              "      <td>josé eric mesquita coelho</td>\n",
              "      <td>ericmesquita2480@alu.ufc.br</td>\n",
              "      <td>11</td>\n",
              "      <td>12</td>\n",
              "      <td>1</td>\n",
              "      <td>Analise e Desenvolvimento de Sistemas</td>\n",
              "      <td>9.3787</td>\n",
              "      <td>Alto</td>\n",
              "      <td>1.000000</td>\n",
              "      <td>High</td>\n",
              "    </tr>\n",
              "    <tr>\n",
              "      <th>10</th>\n",
              "      <td>paulo matheus cardoso viana</td>\n",
              "      <td>paulo.cardoso@alu.ufc.br</td>\n",
              "      <td>7</td>\n",
              "      <td>6</td>\n",
              "      <td>-1</td>\n",
              "      <td>Analise e Desenvolvimento de Sistemas</td>\n",
              "      <td>7.7467</td>\n",
              "      <td>Baixo</td>\n",
              "      <td>-0.200000</td>\n",
              "      <td>Decrease</td>\n",
              "    </tr>\n",
              "    <tr>\n",
              "      <th>11</th>\n",
              "      <td>pâmela gonçalves uchôa</td>\n",
              "      <td>pamelauchoa@alu.ufc.br</td>\n",
              "      <td>10</td>\n",
              "      <td>11</td>\n",
              "      <td>1</td>\n",
              "      <td>Segurança da Informação</td>\n",
              "      <td>6.7622</td>\n",
              "      <td>Baixo</td>\n",
              "      <td>0.500000</td>\n",
              "      <td>Average</td>\n",
              "    </tr>\n",
              "    <tr>\n",
              "      <th>12</th>\n",
              "      <td>vitor emanuel de sousa nunes</td>\n",
              "      <td>sousavitim@alu.ufc.br</td>\n",
              "      <td>8</td>\n",
              "      <td>7</td>\n",
              "      <td>-1</td>\n",
              "      <td>Segurança da Informação</td>\n",
              "      <td>8.5767</td>\n",
              "      <td>Alto</td>\n",
              "      <td>-0.250000</td>\n",
              "      <td>Decrease</td>\n",
              "    </tr>\n",
              "    <tr>\n",
              "      <th>13</th>\n",
              "      <td>vitor manuel gomes vasconcelos</td>\n",
              "      <td>vitor2215@alu.ufc.br</td>\n",
              "      <td>9</td>\n",
              "      <td>11</td>\n",
              "      <td>2</td>\n",
              "      <td>Segurança da Informação</td>\n",
              "      <td>8.3000</td>\n",
              "      <td>Alto</td>\n",
              "      <td>0.666667</td>\n",
              "      <td>Average</td>\n",
              "    </tr>\n",
              "    <tr>\n",
              "      <th>14</th>\n",
              "      <td>vítor barbosa da silva</td>\n",
              "      <td>barbosavitor@alu.ufc.br</td>\n",
              "      <td>9</td>\n",
              "      <td>11</td>\n",
              "      <td>2</td>\n",
              "      <td>Analise e Desenvolvimento de Sistemas</td>\n",
              "      <td>7.8614</td>\n",
              "      <td>Baixo</td>\n",
              "      <td>0.666667</td>\n",
              "      <td>Average</td>\n",
              "    </tr>\n",
              "    <tr>\n",
              "      <th>15</th>\n",
              "      <td>willian mota sousa</td>\n",
              "      <td>willyanmota93@gmail.com</td>\n",
              "      <td>9</td>\n",
              "      <td>7</td>\n",
              "      <td>-2</td>\n",
              "      <td>Segurança da Informação</td>\n",
              "      <td>8.2667</td>\n",
              "      <td>Alto</td>\n",
              "      <td>-0.666667</td>\n",
              "      <td>Decrease</td>\n",
              "    </tr>\n",
              "  </tbody>\n",
              "</table>\n",
              "</div>"
            ],
            "text/plain": [
              "                                  Nome                       E-mail  \\\n",
              "0            aline kelly de sousa lima      liinekelly10@alu.ufc.br   \n",
              "1                cauã de sousa brandão           brandao@alu.ufc.br   \n",
              "2         cássio davi matos dos santos       cassiomatos@alu.ufc.br   \n",
              "3             emanuel ávila cruz pires     emanuel.pires@alu.ufc.br   \n",
              "4              esdras souza dos santos       souzaesdras@alu.ufc.br   \n",
              "5   francisco de paulo mesquita júnior         paulojr00@alu.ufc.br   \n",
              "6               gabriel felix oliveira       gofelix1616@alu.ufc.br   \n",
              "7      italo césar sampaio gomes pinto       italo.csr07@alu.ufc.br   \n",
              "8               josé davi araujo gomes         jose.davi@alu.ufc.br   \n",
              "9            josé eric mesquita coelho  ericmesquita2480@alu.ufc.br   \n",
              "10         paulo matheus cardoso viana     paulo.cardoso@alu.ufc.br   \n",
              "11              pâmela gonçalves uchôa       pamelauchoa@alu.ufc.br   \n",
              "12        vitor emanuel de sousa nunes        sousavitim@alu.ufc.br   \n",
              "13      vitor manuel gomes vasconcelos         vitor2215@alu.ufc.br   \n",
              "14              vítor barbosa da silva      barbosavitor@alu.ufc.br   \n",
              "15                  willian mota sousa      willyanmota93@gmail.com   \n",
              "\n",
              "    Acertos_pos_aula  Acertos_pos_jogo  Diferenca  \\\n",
              "0                  9                 9          0   \n",
              "1                  3                 3          0   \n",
              "2                  6                 7          1   \n",
              "3                 10                12          2   \n",
              "4                  9                 9          0   \n",
              "5                 10                 9         -1   \n",
              "6                 10                10          0   \n",
              "7                  8                 8          0   \n",
              "8                  7                 8          1   \n",
              "9                 11                12          1   \n",
              "10                 7                 6         -1   \n",
              "11                10                11          1   \n",
              "12                 8                 7         -1   \n",
              "13                 9                11          2   \n",
              "14                 9                11          2   \n",
              "15                 9                 7         -2   \n",
              "\n",
              "                                    Curso  Nota do IRA Individual Faixa IRA  \\\n",
              "0   Analise e Desenvolvimento de Sistemas                  7.3467     Baixo   \n",
              "1   Analise e Desenvolvimento de Sistemas                  7.1080     Baixo   \n",
              "2                 Segurança da Informação                  7.2827     Baixo   \n",
              "3                 Segurança da Informação                  7.4241     Baixo   \n",
              "4   Analise e Desenvolvimento de Sistemas                  8.4547      Alto   \n",
              "5                 Segurança da Informação                  8.3567      Alto   \n",
              "6   Analise e Desenvolvimento de Sistemas                  8.6633      Alto   \n",
              "7                 Segurança da Informação                  8.2867      Alto   \n",
              "8   Analise e Desenvolvimento de Sistemas                  7.6987     Baixo   \n",
              "9   Analise e Desenvolvimento de Sistemas                  9.3787      Alto   \n",
              "10  Analise e Desenvolvimento de Sistemas                  7.7467     Baixo   \n",
              "11                Segurança da Informação                  6.7622     Baixo   \n",
              "12                Segurança da Informação                  8.5767      Alto   \n",
              "13                Segurança da Informação                  8.3000      Alto   \n",
              "14  Analise e Desenvolvimento de Sistemas                  7.8614     Baixo   \n",
              "15                Segurança da Informação                  8.2667      Alto   \n",
              "\n",
              "    Normalized_Gain Normalized_Gain_Interpretation  \n",
              "0          0.000000                         Stable  \n",
              "1          0.000000                         Stable  \n",
              "2          0.166667                            Low  \n",
              "3          1.000000                           High  \n",
              "4          0.000000                         Stable  \n",
              "5         -0.500000                       Decrease  \n",
              "6          0.000000                         Stable  \n",
              "7          0.000000                         Stable  \n",
              "8          0.200000                            Low  \n",
              "9          1.000000                           High  \n",
              "10        -0.200000                       Decrease  \n",
              "11         0.500000                        Average  \n",
              "12        -0.250000                       Decrease  \n",
              "13         0.666667                        Average  \n",
              "14         0.666667                        Average  \n",
              "15        -0.666667                       Decrease  "
            ]
          },
          "execution_count": 690,
          "metadata": {},
          "output_type": "execute_result"
        }
      ],
      "source": [
        "juntos"
      ]
    },
    {
      "cell_type": "code",
      "execution_count": 691,
      "metadata": {},
      "outputs": [
        {
          "data": {
            "text/html": [
              "<div>\n",
              "<style scoped>\n",
              "    .dataframe tbody tr th:only-of-type {\n",
              "        vertical-align: middle;\n",
              "    }\n",
              "\n",
              "    .dataframe tbody tr th {\n",
              "        vertical-align: top;\n",
              "    }\n",
              "\n",
              "    .dataframe thead th {\n",
              "        text-align: right;\n",
              "    }\n",
              "</style>\n",
              "<table border=\"1\" class=\"dataframe\">\n",
              "  <thead>\n",
              "    <tr style=\"text-align: right;\">\n",
              "      <th></th>\n",
              "      <th></th>\n",
              "      <th>count</th>\n",
              "    </tr>\n",
              "    <tr>\n",
              "      <th>Faixa IRA</th>\n",
              "      <th>Normalized_Gain_Interpretation</th>\n",
              "      <th></th>\n",
              "    </tr>\n",
              "  </thead>\n",
              "  <tbody>\n",
              "    <tr>\n",
              "      <th rowspan=\"4\" valign=\"top\">Alto</th>\n",
              "      <th>Decrease</th>\n",
              "      <td>3</td>\n",
              "    </tr>\n",
              "    <tr>\n",
              "      <th>Stable</th>\n",
              "      <td>3</td>\n",
              "    </tr>\n",
              "    <tr>\n",
              "      <th>Average</th>\n",
              "      <td>1</td>\n",
              "    </tr>\n",
              "    <tr>\n",
              "      <th>High</th>\n",
              "      <td>1</td>\n",
              "    </tr>\n",
              "    <tr>\n",
              "      <th rowspan=\"5\" valign=\"top\">Baixo</th>\n",
              "      <th>Average</th>\n",
              "      <td>2</td>\n",
              "    </tr>\n",
              "    <tr>\n",
              "      <th>Low</th>\n",
              "      <td>2</td>\n",
              "    </tr>\n",
              "    <tr>\n",
              "      <th>Stable</th>\n",
              "      <td>2</td>\n",
              "    </tr>\n",
              "    <tr>\n",
              "      <th>Decrease</th>\n",
              "      <td>1</td>\n",
              "    </tr>\n",
              "    <tr>\n",
              "      <th>High</th>\n",
              "      <td>1</td>\n",
              "    </tr>\n",
              "  </tbody>\n",
              "</table>\n",
              "</div>"
            ],
            "text/plain": [
              "                                          count\n",
              "Faixa IRA Normalized_Gain_Interpretation       \n",
              "Alto      Decrease                            3\n",
              "          Stable                              3\n",
              "          Average                             1\n",
              "          High                                1\n",
              "Baixo     Average                             2\n",
              "          Low                                 2\n",
              "          Stable                              2\n",
              "          Decrease                            1\n",
              "          High                                1"
            ]
          },
          "execution_count": 691,
          "metadata": {},
          "output_type": "execute_result"
        }
      ],
      "source": [
        "juntos.groupby('Faixa IRA')['Normalized_Gain_Interpretation'].value_counts().to_frame()"
      ]
    },
    {
      "cell_type": "code",
      "execution_count": 692,
      "metadata": {},
      "outputs": [],
      "source": [
        "nomes = juntos.Nome.tolist()\n",
        "nomes.append('gabriel felix olivera'.lower().strip())\n",
        "nomes.append('Pâmela Gonçalves Uchôa de Sousa'.lower().strip())\n",
        "\n",
        "caracterizacao_exp = caracterizacao[caracterizacao['Qual o seu nome?'].str.lower().str.strip().isin(nomes)].copy()"
      ]
    },
    {
      "cell_type": "code",
      "execution_count": 693,
      "metadata": {},
      "outputs": [
        {
          "data": {
            "text/html": [
              "<div>\n",
              "<style scoped>\n",
              "    .dataframe tbody tr th:only-of-type {\n",
              "        vertical-align: middle;\n",
              "    }\n",
              "\n",
              "    .dataframe tbody tr th {\n",
              "        vertical-align: top;\n",
              "    }\n",
              "\n",
              "    .dataframe thead th {\n",
              "        text-align: right;\n",
              "    }\n",
              "</style>\n",
              "<table border=\"1\" class=\"dataframe\">\n",
              "  <thead>\n",
              "    <tr style=\"text-align: right;\">\n",
              "      <th></th>\n",
              "      <th>Carimbo de data/hora</th>\n",
              "      <th>Qual o seu nome?</th>\n",
              "      <th>Qual o seu e-mail?</th>\n",
              "      <th>Qual a sua idade?</th>\n",
              "      <th>Qual é o seu gênero?</th>\n",
              "      <th>Qual é o seu curso de graduação?</th>\n",
              "      <th>Em qual semestre/período acadêmico você está atualmente?</th>\n",
              "      <th>Você trabalha atualmente na indústria de software ou em projetos de pesquisa e desenvolvimento (P&amp;D) na área?</th>\n",
              "      <th>Como você autoavalia seu nível de conhecimento em desenvolvimento de sistemas para web?</th>\n",
              "      <th>Como você autoavalia seu nível de conhecimento em segurança de software (ou informação)?</th>\n",
              "      <th>Como você autoavalia seu nível de conhecimento em vulnerabilidades de segurança para sistemas web?</th>\n",
              "      <th>Como você autoavalia seu nível de conhecimento em padrões de segurança para mitigar vulnerabilidades em sistemas web?</th>\n",
              "      <th>level</th>\n",
              "    </tr>\n",
              "  </thead>\n",
              "  <tbody>\n",
              "    <tr>\n",
              "      <th>2</th>\n",
              "      <td>2025-02-22 15:48:11.152</td>\n",
              "      <td>José Eric Mesquita Coelho</td>\n",
              "      <td>ericmesquita2480@alu.ufc.br</td>\n",
              "      <td>20</td>\n",
              "      <td>Homem</td>\n",
              "      <td>Analise e Desenvolvimento de Sistemas</td>\n",
              "      <td>6º semestre/período</td>\n",
              "      <td>Sim, em projetos de pesquisa e desenvolvimento</td>\n",
              "      <td>Eu participei de exercícios práticos em sala de aula.</td>\n",
              "      <td>Eu tive aulas sobre isso.</td>\n",
              "      <td>Eu realizei pesquisas prévias em fontes da literatura e recursos online.</td>\n",
              "      <td>Eu realizei pesquisas prévias em fontes da literatura e recursos online.</td>\n",
              "      <td>Medium</td>\n",
              "    </tr>\n",
              "    <tr>\n",
              "      <th>3</th>\n",
              "      <td>2025-02-22 15:48:21.821</td>\n",
              "      <td>Cauã de Sousa Brandão</td>\n",
              "      <td>Brandao@alu.ufc.br</td>\n",
              "      <td>21</td>\n",
              "      <td>Homem</td>\n",
              "      <td>Analise e Desenvolvimento de Sistemas</td>\n",
              "      <td>6º semestre/período</td>\n",
              "      <td>Não</td>\n",
              "      <td>Eu participei de exercícios práticos em sala de aula.</td>\n",
              "      <td>Eu tive aulas sobre isso.</td>\n",
              "      <td>Eu tive aulas sobre isso.</td>\n",
              "      <td>Eu não tenho familiaridade prévia com isso.</td>\n",
              "      <td>Medium</td>\n",
              "    </tr>\n",
              "    <tr>\n",
              "      <th>4</th>\n",
              "      <td>2025-02-22 15:48:30.478</td>\n",
              "      <td>Aline Kelly de Sousa Lima</td>\n",
              "      <td>liinekelly10@alu.ufc.br</td>\n",
              "      <td>20</td>\n",
              "      <td>Mulher</td>\n",
              "      <td>Analise e Desenvolvimento de Sistemas</td>\n",
              "      <td>4º semestre/período</td>\n",
              "      <td>Não</td>\n",
              "      <td>Eu participei de exercícios práticos em sala de aula.</td>\n",
              "      <td>Eu participei de exercícios práticos em sala de aula.</td>\n",
              "      <td>Eu tive aulas sobre isso.</td>\n",
              "      <td>Eu tive aulas sobre isso.</td>\n",
              "      <td>Medium</td>\n",
              "    </tr>\n",
              "    <tr>\n",
              "      <th>6</th>\n",
              "      <td>2025-02-22 15:49:34.712</td>\n",
              "      <td>Francisco de Paulo Mesquita Júnior</td>\n",
              "      <td>paulojr00@alu.ufc.br</td>\n",
              "      <td>24</td>\n",
              "      <td>Homem</td>\n",
              "      <td>Segurança da Informação</td>\n",
              "      <td>4º semestre/período</td>\n",
              "      <td>Não</td>\n",
              "      <td>Eu não tenho familiaridade prévia com isso.</td>\n",
              "      <td>Eu realizei pesquisas prévias em fontes da literatura e recursos online.</td>\n",
              "      <td>Eu realizei pesquisas prévias em fontes da literatura e recursos online.</td>\n",
              "      <td>Eu realizei pesquisas prévias em fontes da literatura e recursos online.</td>\n",
              "      <td>Medium</td>\n",
              "    </tr>\n",
              "    <tr>\n",
              "      <th>7</th>\n",
              "      <td>2025-02-22 15:52:57.178</td>\n",
              "      <td>Willian Mota Sousa</td>\n",
              "      <td>willyanmota93@gmail.com</td>\n",
              "      <td>20</td>\n",
              "      <td>Homem</td>\n",
              "      <td>Segurança da Informação</td>\n",
              "      <td>4º semestre/período</td>\n",
              "      <td>Não</td>\n",
              "      <td>Eu não tenho familiaridade prévia com isso.</td>\n",
              "      <td>Eu tive aulas sobre isso.</td>\n",
              "      <td>Eu tive aulas sobre isso.</td>\n",
              "      <td>Eu tive aulas sobre isso.</td>\n",
              "      <td>Medium</td>\n",
              "    </tr>\n",
              "    <tr>\n",
              "      <th>10</th>\n",
              "      <td>2025-02-22 15:59:05.290</td>\n",
              "      <td>Paulo Matheus Cardoso Viana</td>\n",
              "      <td>paulo.cardoso@alu.ufc.br</td>\n",
              "      <td>20</td>\n",
              "      <td>Homem</td>\n",
              "      <td>Analise e Desenvolvimento de Sistemas</td>\n",
              "      <td>4º semestre/período</td>\n",
              "      <td>Não</td>\n",
              "      <td>Eu tive aulas sobre isso.</td>\n",
              "      <td>Eu não tenho familiaridade prévia com isso.</td>\n",
              "      <td>Eu não tenho familiaridade prévia com isso.</td>\n",
              "      <td>Eu tive aulas sobre isso.</td>\n",
              "      <td>Low</td>\n",
              "    </tr>\n",
              "    <tr>\n",
              "      <th>12</th>\n",
              "      <td>2025-02-22 16:03:45.361</td>\n",
              "      <td>Emanuel Ávila Cruz Pires</td>\n",
              "      <td>emanuel.pires@alu.ufc.br</td>\n",
              "      <td>22</td>\n",
              "      <td>Homem</td>\n",
              "      <td>Segurança da Informação</td>\n",
              "      <td>6º semestre/período</td>\n",
              "      <td>Sim, em projetos de pesquisa e desenvolvimento</td>\n",
              "      <td>Eu participei de exercícios práticos em sala de aula.</td>\n",
              "      <td>Eu participei de exercícios práticos em sala de aula.</td>\n",
              "      <td>Eu participei de exercícios práticos em sala de aula.</td>\n",
              "      <td>Eu participei de exercícios práticos em sala de aula.</td>\n",
              "      <td>Medium</td>\n",
              "    </tr>\n",
              "    <tr>\n",
              "      <th>15</th>\n",
              "      <td>2025-02-22 16:11:11.972</td>\n",
              "      <td>Cássio Davi Matos dos Santos</td>\n",
              "      <td>cassiomatos@alu.ufc.br</td>\n",
              "      <td>21</td>\n",
              "      <td>Homem</td>\n",
              "      <td>Segurança da Informação</td>\n",
              "      <td>6º semestre/período</td>\n",
              "      <td>Não</td>\n",
              "      <td>Eu participei de exercícios práticos em sala de aula.</td>\n",
              "      <td>Eu participei de exercícios práticos em sala de aula.</td>\n",
              "      <td>Eu participei de exercícios práticos em sala de aula.</td>\n",
              "      <td>Eu participei de exercícios práticos em sala de aula.</td>\n",
              "      <td>Medium</td>\n",
              "    </tr>\n",
              "    <tr>\n",
              "      <th>17</th>\n",
              "      <td>2025-02-22 16:13:23.128</td>\n",
              "      <td>Vitor Emanuel de Sousa Nunes</td>\n",
              "      <td>sousavitim@alu.ufc.br</td>\n",
              "      <td>22</td>\n",
              "      <td>Homem</td>\n",
              "      <td>Segurança da Informação</td>\n",
              "      <td>4º semestre/período</td>\n",
              "      <td>Não</td>\n",
              "      <td>Eu não tenho familiaridade prévia com isso.</td>\n",
              "      <td>Eu tive aulas sobre isso.</td>\n",
              "      <td>Eu tive aulas sobre isso.</td>\n",
              "      <td>Eu tive aulas sobre isso.</td>\n",
              "      <td>Medium</td>\n",
              "    </tr>\n",
              "    <tr>\n",
              "      <th>22</th>\n",
              "      <td>2025-02-22 16:31:55.412</td>\n",
              "      <td>Esdras Souza dos Santos</td>\n",
              "      <td>souzaesdras@alu.ufc.br</td>\n",
              "      <td>22</td>\n",
              "      <td>Homem</td>\n",
              "      <td>Analise e Desenvolvimento de Sistemas</td>\n",
              "      <td>6º semestre/período</td>\n",
              "      <td>Não</td>\n",
              "      <td>Eu participei de exercícios práticos em sala de aula.</td>\n",
              "      <td>Eu tive aulas sobre isso.</td>\n",
              "      <td>Eu não tenho familiaridade prévia com isso.</td>\n",
              "      <td>Eu realizei pesquisas prévias em fontes da literatura e recursos online.</td>\n",
              "      <td>Medium</td>\n",
              "    </tr>\n",
              "    <tr>\n",
              "      <th>28</th>\n",
              "      <td>2025-02-22 18:13:12.487</td>\n",
              "      <td>Vitor Manuel Gomes Vasconcelos</td>\n",
              "      <td>vitor2215@alu.ufc.br</td>\n",
              "      <td>21</td>\n",
              "      <td>Homem</td>\n",
              "      <td>Segurança da Informação</td>\n",
              "      <td>6º semestre/período</td>\n",
              "      <td>Sim, em projetos de pesquisa e desenvolvimento</td>\n",
              "      <td>Eu tive aulas sobre isso.</td>\n",
              "      <td>Eu participei de exercícios práticos em sala de aula.</td>\n",
              "      <td>Eu tive aulas sobre isso.</td>\n",
              "      <td>Eu tive aulas sobre isso.</td>\n",
              "      <td>Medium</td>\n",
              "    </tr>\n",
              "    <tr>\n",
              "      <th>30</th>\n",
              "      <td>2025-02-22 18:55:27.350</td>\n",
              "      <td>gabriel felix olivera</td>\n",
              "      <td>gofelix1616@alu.ufc.br</td>\n",
              "      <td>20</td>\n",
              "      <td>Homem</td>\n",
              "      <td>Analise e Desenvolvimento de Sistemas</td>\n",
              "      <td>4º semestre/período</td>\n",
              "      <td>Sim, na indústria de software</td>\n",
              "      <td>Eu apliquei isso em um projeto industrial.</td>\n",
              "      <td>Eu tive aulas sobre isso.</td>\n",
              "      <td>Eu tive aulas sobre isso.</td>\n",
              "      <td>Eu realizei pesquisas prévias em fontes da literatura e recursos online.</td>\n",
              "      <td>Medium</td>\n",
              "    </tr>\n",
              "    <tr>\n",
              "      <th>31</th>\n",
              "      <td>2025-02-22 18:59:31.973</td>\n",
              "      <td>José Davi Araujo Gomes</td>\n",
              "      <td>jose.davi@alu.ufc.br</td>\n",
              "      <td>25</td>\n",
              "      <td>Homem</td>\n",
              "      <td>Analise e Desenvolvimento de Sistemas</td>\n",
              "      <td>6º semestre/período</td>\n",
              "      <td>Sim, em projetos de pesquisa e desenvolvimento</td>\n",
              "      <td>Eu apliquei isso em um projeto industrial.</td>\n",
              "      <td>Eu participei de exercícios práticos em sala de aula.</td>\n",
              "      <td>Eu tive aulas sobre isso.</td>\n",
              "      <td>Eu não tenho familiaridade prévia com isso.</td>\n",
              "      <td>Medium</td>\n",
              "    </tr>\n",
              "    <tr>\n",
              "      <th>32</th>\n",
              "      <td>2025-02-22 19:56:15.352</td>\n",
              "      <td>Vítor Barbosa da Silva</td>\n",
              "      <td>barbosavitor@alu.ufc.br</td>\n",
              "      <td>22</td>\n",
              "      <td>Homem</td>\n",
              "      <td>Analise e Desenvolvimento de Sistemas</td>\n",
              "      <td>6º semestre/período</td>\n",
              "      <td>Não</td>\n",
              "      <td>Eu participei de exercícios práticos em sala de aula.</td>\n",
              "      <td>Eu tive aulas sobre isso.</td>\n",
              "      <td>Eu tive aulas sobre isso.</td>\n",
              "      <td>Eu tive aulas sobre isso.</td>\n",
              "      <td>Medium</td>\n",
              "    </tr>\n",
              "    <tr>\n",
              "      <th>39</th>\n",
              "      <td>2025-02-24 08:31:06.090</td>\n",
              "      <td>Pâmela Gonçalves Uchôa de Sousa</td>\n",
              "      <td>pamelauchoa@alu.ufc.br</td>\n",
              "      <td>21</td>\n",
              "      <td>Mulher</td>\n",
              "      <td>Segurança da Informação</td>\n",
              "      <td>6º semestre/período</td>\n",
              "      <td>Não</td>\n",
              "      <td>Eu tive aulas sobre isso.</td>\n",
              "      <td>Eu tive aulas sobre isso.</td>\n",
              "      <td>Eu tive aulas sobre isso.</td>\n",
              "      <td>Eu tive aulas sobre isso.</td>\n",
              "      <td>Medium</td>\n",
              "    </tr>\n",
              "    <tr>\n",
              "      <th>40</th>\n",
              "      <td>2025-02-24 13:32:03.606</td>\n",
              "      <td>Italo César Sampaio Gomes Pinto</td>\n",
              "      <td>italo.csr07@alu.ufc.br</td>\n",
              "      <td>19</td>\n",
              "      <td>Homem</td>\n",
              "      <td>Segurança da Informação</td>\n",
              "      <td>4º semestre/período</td>\n",
              "      <td>Não</td>\n",
              "      <td>Eu tive aulas sobre isso.</td>\n",
              "      <td>Eu tive aulas sobre isso.</td>\n",
              "      <td>Eu tive aulas sobre isso.</td>\n",
              "      <td>Eu tive aulas sobre isso.</td>\n",
              "      <td>Medium</td>\n",
              "    </tr>\n",
              "  </tbody>\n",
              "</table>\n",
              "</div>"
            ],
            "text/plain": [
              "      Carimbo de data/hora                     Qual o seu nome?  \\\n",
              "2  2025-02-22 15:48:11.152            José Eric Mesquita Coelho   \n",
              "3  2025-02-22 15:48:21.821               Cauã de Sousa Brandão    \n",
              "4  2025-02-22 15:48:30.478            Aline Kelly de Sousa Lima   \n",
              "6  2025-02-22 15:49:34.712  Francisco de Paulo Mesquita Júnior    \n",
              "7  2025-02-22 15:52:57.178                  Willian Mota Sousa    \n",
              "10 2025-02-22 15:59:05.290         Paulo Matheus Cardoso Viana    \n",
              "12 2025-02-22 16:03:45.361            Emanuel Ávila Cruz Pires    \n",
              "15 2025-02-22 16:11:11.972        Cássio Davi Matos dos Santos    \n",
              "17 2025-02-22 16:13:23.128         Vitor Emanuel de Sousa Nunes   \n",
              "22 2025-02-22 16:31:55.412              Esdras Souza dos Santos   \n",
              "28 2025-02-22 18:13:12.487       Vitor Manuel Gomes Vasconcelos   \n",
              "30 2025-02-22 18:55:27.350                gabriel felix olivera   \n",
              "31 2025-02-22 18:59:31.973               José Davi Araujo Gomes   \n",
              "32 2025-02-22 19:56:15.352              Vítor Barbosa da Silva    \n",
              "39 2025-02-24 08:31:06.090      Pâmela Gonçalves Uchôa de Sousa   \n",
              "40 2025-02-24 13:32:03.606      Italo César Sampaio Gomes Pinto   \n",
              "\n",
              "             Qual o seu e-mail?  Qual a sua idade? Qual é o seu gênero?  \\\n",
              "2   ericmesquita2480@alu.ufc.br                 20                Homem   \n",
              "3            Brandao@alu.ufc.br                 21                Homem   \n",
              "4       liinekelly10@alu.ufc.br                 20               Mulher   \n",
              "6          paulojr00@alu.ufc.br                 24                Homem   \n",
              "7       willyanmota93@gmail.com                 20                Homem   \n",
              "10     paulo.cardoso@alu.ufc.br                 20                Homem   \n",
              "12     emanuel.pires@alu.ufc.br                 22                Homem   \n",
              "15       cassiomatos@alu.ufc.br                 21                Homem   \n",
              "17        sousavitim@alu.ufc.br                 22                Homem   \n",
              "22       souzaesdras@alu.ufc.br                 22                Homem   \n",
              "28         vitor2215@alu.ufc.br                 21                Homem   \n",
              "30       gofelix1616@alu.ufc.br                 20                Homem   \n",
              "31         jose.davi@alu.ufc.br                 25                Homem   \n",
              "32      barbosavitor@alu.ufc.br                 22                Homem   \n",
              "39       pamelauchoa@alu.ufc.br                 21               Mulher   \n",
              "40       italo.csr07@alu.ufc.br                 19                Homem   \n",
              "\n",
              "         Qual é o seu curso de graduação?  \\\n",
              "2   Analise e Desenvolvimento de Sistemas   \n",
              "3   Analise e Desenvolvimento de Sistemas   \n",
              "4   Analise e Desenvolvimento de Sistemas   \n",
              "6                 Segurança da Informação   \n",
              "7                 Segurança da Informação   \n",
              "10  Analise e Desenvolvimento de Sistemas   \n",
              "12                Segurança da Informação   \n",
              "15                Segurança da Informação   \n",
              "17                Segurança da Informação   \n",
              "22  Analise e Desenvolvimento de Sistemas   \n",
              "28                Segurança da Informação   \n",
              "30  Analise e Desenvolvimento de Sistemas   \n",
              "31  Analise e Desenvolvimento de Sistemas   \n",
              "32  Analise e Desenvolvimento de Sistemas   \n",
              "39                Segurança da Informação   \n",
              "40                Segurança da Informação   \n",
              "\n",
              "   Em qual semestre/período acadêmico você está atualmente?  \\\n",
              "2                                       6º semestre/período   \n",
              "3                                       6º semestre/período   \n",
              "4                                       4º semestre/período   \n",
              "6                                       4º semestre/período   \n",
              "7                                       4º semestre/período   \n",
              "10                                      4º semestre/período   \n",
              "12                                      6º semestre/período   \n",
              "15                                      6º semestre/período   \n",
              "17                                      4º semestre/período   \n",
              "22                                      6º semestre/período   \n",
              "28                                      6º semestre/período   \n",
              "30                                      4º semestre/período   \n",
              "31                                      6º semestre/período   \n",
              "32                                      6º semestre/período   \n",
              "39                                      6º semestre/período   \n",
              "40                                      4º semestre/período   \n",
              "\n",
              "   Você trabalha atualmente na indústria de software ou em projetos de pesquisa e desenvolvimento (P&D) na área?  \\\n",
              "2                                                                 Sim, em projetos de pesquisa e desenvolvimento   \n",
              "3                                                                                                            Não   \n",
              "4                                                                                                            Não   \n",
              "6                                                                                                            Não   \n",
              "7                                                                                                            Não   \n",
              "10                                                                                                           Não   \n",
              "12                                                                Sim, em projetos de pesquisa e desenvolvimento   \n",
              "15                                                                                                           Não   \n",
              "17                                                                                                           Não   \n",
              "22                                                                                                           Não   \n",
              "28                                                                Sim, em projetos de pesquisa e desenvolvimento   \n",
              "30                                                                                 Sim, na indústria de software   \n",
              "31                                                                Sim, em projetos de pesquisa e desenvolvimento   \n",
              "32                                                                                                           Não   \n",
              "39                                                                                                           Não   \n",
              "40                                                                                                           Não   \n",
              "\n",
              "   Como você autoavalia seu nível de conhecimento em desenvolvimento de sistemas para web?  \\\n",
              "2                                    Eu participei de exercícios práticos em sala de aula.   \n",
              "3                                    Eu participei de exercícios práticos em sala de aula.   \n",
              "4                                    Eu participei de exercícios práticos em sala de aula.   \n",
              "6                                              Eu não tenho familiaridade prévia com isso.   \n",
              "7                                              Eu não tenho familiaridade prévia com isso.   \n",
              "10                                                               Eu tive aulas sobre isso.   \n",
              "12                                   Eu participei de exercícios práticos em sala de aula.   \n",
              "15                                   Eu participei de exercícios práticos em sala de aula.   \n",
              "17                                             Eu não tenho familiaridade prévia com isso.   \n",
              "22                                   Eu participei de exercícios práticos em sala de aula.   \n",
              "28                                                               Eu tive aulas sobre isso.   \n",
              "30                                              Eu apliquei isso em um projeto industrial.   \n",
              "31                                              Eu apliquei isso em um projeto industrial.   \n",
              "32                                   Eu participei de exercícios práticos em sala de aula.   \n",
              "39                                                               Eu tive aulas sobre isso.   \n",
              "40                                                               Eu tive aulas sobre isso.   \n",
              "\n",
              "   Como você autoavalia seu nível de conhecimento em segurança de software (ou informação)?  \\\n",
              "2                                                                 Eu tive aulas sobre isso.   \n",
              "3                                                                 Eu tive aulas sobre isso.   \n",
              "4                                     Eu participei de exercícios práticos em sala de aula.   \n",
              "6                  Eu realizei pesquisas prévias em fontes da literatura e recursos online.   \n",
              "7                                                                 Eu tive aulas sobre isso.   \n",
              "10                                              Eu não tenho familiaridade prévia com isso.   \n",
              "12                                    Eu participei de exercícios práticos em sala de aula.   \n",
              "15                                    Eu participei de exercícios práticos em sala de aula.   \n",
              "17                                                                Eu tive aulas sobre isso.   \n",
              "22                                                                Eu tive aulas sobre isso.   \n",
              "28                                    Eu participei de exercícios práticos em sala de aula.   \n",
              "30                                                                Eu tive aulas sobre isso.   \n",
              "31                                    Eu participei de exercícios práticos em sala de aula.   \n",
              "32                                                                Eu tive aulas sobre isso.   \n",
              "39                                                                Eu tive aulas sobre isso.   \n",
              "40                                                                Eu tive aulas sobre isso.   \n",
              "\n",
              "   Como você autoavalia seu nível de conhecimento em vulnerabilidades de segurança para sistemas web?  \\\n",
              "2                            Eu realizei pesquisas prévias em fontes da literatura e recursos online.   \n",
              "3                                                                           Eu tive aulas sobre isso.   \n",
              "4                                                                           Eu tive aulas sobre isso.   \n",
              "6                            Eu realizei pesquisas prévias em fontes da literatura e recursos online.   \n",
              "7                                                                           Eu tive aulas sobre isso.   \n",
              "10                                                        Eu não tenho familiaridade prévia com isso.   \n",
              "12                                              Eu participei de exercícios práticos em sala de aula.   \n",
              "15                                              Eu participei de exercícios práticos em sala de aula.   \n",
              "17                                                                          Eu tive aulas sobre isso.   \n",
              "22                                                        Eu não tenho familiaridade prévia com isso.   \n",
              "28                                                                          Eu tive aulas sobre isso.   \n",
              "30                                                                          Eu tive aulas sobre isso.   \n",
              "31                                                                          Eu tive aulas sobre isso.   \n",
              "32                                                                          Eu tive aulas sobre isso.   \n",
              "39                                                                          Eu tive aulas sobre isso.   \n",
              "40                                                                          Eu tive aulas sobre isso.   \n",
              "\n",
              "   Como você autoavalia seu nível de conhecimento em padrões de segurança para mitigar vulnerabilidades em sistemas web?  \\\n",
              "2                                               Eu realizei pesquisas prévias em fontes da literatura e recursos online.   \n",
              "3                                                                            Eu não tenho familiaridade prévia com isso.   \n",
              "4                                                                                              Eu tive aulas sobre isso.   \n",
              "6                                               Eu realizei pesquisas prévias em fontes da literatura e recursos online.   \n",
              "7                                                                                              Eu tive aulas sobre isso.   \n",
              "10                                                                                             Eu tive aulas sobre isso.   \n",
              "12                                                                 Eu participei de exercícios práticos em sala de aula.   \n",
              "15                                                                 Eu participei de exercícios práticos em sala de aula.   \n",
              "17                                                                                             Eu tive aulas sobre isso.   \n",
              "22                                              Eu realizei pesquisas prévias em fontes da literatura e recursos online.   \n",
              "28                                                                                             Eu tive aulas sobre isso.   \n",
              "30                                              Eu realizei pesquisas prévias em fontes da literatura e recursos online.   \n",
              "31                                                                           Eu não tenho familiaridade prévia com isso.   \n",
              "32                                                                                             Eu tive aulas sobre isso.   \n",
              "39                                                                                             Eu tive aulas sobre isso.   \n",
              "40                                                                                             Eu tive aulas sobre isso.   \n",
              "\n",
              "     level  \n",
              "2   Medium  \n",
              "3   Medium  \n",
              "4   Medium  \n",
              "6   Medium  \n",
              "7   Medium  \n",
              "10     Low  \n",
              "12  Medium  \n",
              "15  Medium  \n",
              "17  Medium  \n",
              "22  Medium  \n",
              "28  Medium  \n",
              "30  Medium  \n",
              "31  Medium  \n",
              "32  Medium  \n",
              "39  Medium  \n",
              "40  Medium  "
            ]
          },
          "execution_count": 693,
          "metadata": {},
          "output_type": "execute_result"
        }
      ],
      "source": [
        "caracterizacao_exp['level'] = caracterizacao_exp['Como você autoavalia seu nível de conhecimento em segurança de software (ou informação)?'].map(question_map)\n",
        "caracterizacao_exp"
      ]
    },
    {
      "cell_type": "code",
      "execution_count": 694,
      "metadata": {},
      "outputs": [
        {
          "data": {
            "text/plain": [
              "Como você autoavalia seu nível de conhecimento em segurança de software (ou informação)?\n",
              "Eu tive aulas sobre isso.                                                   9\n",
              "Eu participei de exercícios práticos em sala de aula.                       5\n",
              "Eu realizei pesquisas prévias em fontes da literatura e recursos online.    1\n",
              "Eu não tenho familiaridade prévia com isso.                                 1\n",
              "Name: count, dtype: int64"
            ]
          },
          "execution_count": 694,
          "metadata": {},
          "output_type": "execute_result"
        }
      ],
      "source": [
        "caracterizacao_exp['Como você autoavalia seu nível de conhecimento em segurança de software (ou informação)?'].value_counts()"
      ]
    },
    {
      "cell_type": "code",
      "execution_count": 710,
      "metadata": {},
      "outputs": [],
      "source": [
        "gain_exp = pd.merge(\n",
        "    juntos[[\"E-mail\", \"Normalized_Gain\"]],\n",
        "    caracterizacao_exp[[\"Qual o seu e-mail?\", \"Como você autoavalia seu nível de conhecimento em segurança de software (ou informação)?\"]],\n",
        "    left_on=\"E-mail\",\n",
        "    right_on=\"Qual o seu e-mail?\",\n",
        "    how=\"inner\" \n",
        ").drop(columns=[\"Qual o seu e-mail?\"]) "
      ]
    },
    {
      "cell_type": "code",
      "execution_count": 711,
      "metadata": {},
      "outputs": [
        {
          "data": {
            "text/html": [
              "<div>\n",
              "<style scoped>\n",
              "    .dataframe tbody tr th:only-of-type {\n",
              "        vertical-align: middle;\n",
              "    }\n",
              "\n",
              "    .dataframe tbody tr th {\n",
              "        vertical-align: top;\n",
              "    }\n",
              "\n",
              "    .dataframe thead th {\n",
              "        text-align: right;\n",
              "    }\n",
              "</style>\n",
              "<table border=\"1\" class=\"dataframe\">\n",
              "  <thead>\n",
              "    <tr style=\"text-align: right;\">\n",
              "      <th></th>\n",
              "      <th>E-mail</th>\n",
              "      <th>Normalized_Gain</th>\n",
              "      <th>Como você autoavalia seu nível de conhecimento em segurança de software (ou informação)?</th>\n",
              "    </tr>\n",
              "  </thead>\n",
              "  <tbody>\n",
              "    <tr>\n",
              "      <th>0</th>\n",
              "      <td>liinekelly10@alu.ufc.br</td>\n",
              "      <td>0.000000</td>\n",
              "      <td>Eu participei de exercícios práticos em sala de aula.</td>\n",
              "    </tr>\n",
              "    <tr>\n",
              "      <th>1</th>\n",
              "      <td>cassiomatos@alu.ufc.br</td>\n",
              "      <td>0.166667</td>\n",
              "      <td>Eu participei de exercícios práticos em sala de aula.</td>\n",
              "    </tr>\n",
              "    <tr>\n",
              "      <th>2</th>\n",
              "      <td>emanuel.pires@alu.ufc.br</td>\n",
              "      <td>1.000000</td>\n",
              "      <td>Eu participei de exercícios práticos em sala de aula.</td>\n",
              "    </tr>\n",
              "    <tr>\n",
              "      <th>3</th>\n",
              "      <td>souzaesdras@alu.ufc.br</td>\n",
              "      <td>0.000000</td>\n",
              "      <td>Eu tive aulas sobre isso.</td>\n",
              "    </tr>\n",
              "    <tr>\n",
              "      <th>4</th>\n",
              "      <td>paulojr00@alu.ufc.br</td>\n",
              "      <td>-0.500000</td>\n",
              "      <td>Eu realizei pesquisas prévias em fontes da literatura e recursos online.</td>\n",
              "    </tr>\n",
              "    <tr>\n",
              "      <th>5</th>\n",
              "      <td>gofelix1616@alu.ufc.br</td>\n",
              "      <td>0.000000</td>\n",
              "      <td>Eu tive aulas sobre isso.</td>\n",
              "    </tr>\n",
              "    <tr>\n",
              "      <th>6</th>\n",
              "      <td>italo.csr07@alu.ufc.br</td>\n",
              "      <td>0.000000</td>\n",
              "      <td>Eu tive aulas sobre isso.</td>\n",
              "    </tr>\n",
              "    <tr>\n",
              "      <th>7</th>\n",
              "      <td>jose.davi@alu.ufc.br</td>\n",
              "      <td>0.200000</td>\n",
              "      <td>Eu participei de exercícios práticos em sala de aula.</td>\n",
              "    </tr>\n",
              "    <tr>\n",
              "      <th>8</th>\n",
              "      <td>ericmesquita2480@alu.ufc.br</td>\n",
              "      <td>1.000000</td>\n",
              "      <td>Eu tive aulas sobre isso.</td>\n",
              "    </tr>\n",
              "    <tr>\n",
              "      <th>9</th>\n",
              "      <td>paulo.cardoso@alu.ufc.br</td>\n",
              "      <td>-0.200000</td>\n",
              "      <td>Eu não tenho familiaridade prévia com isso.</td>\n",
              "    </tr>\n",
              "    <tr>\n",
              "      <th>10</th>\n",
              "      <td>pamelauchoa@alu.ufc.br</td>\n",
              "      <td>0.500000</td>\n",
              "      <td>Eu tive aulas sobre isso.</td>\n",
              "    </tr>\n",
              "    <tr>\n",
              "      <th>11</th>\n",
              "      <td>sousavitim@alu.ufc.br</td>\n",
              "      <td>-0.250000</td>\n",
              "      <td>Eu tive aulas sobre isso.</td>\n",
              "    </tr>\n",
              "    <tr>\n",
              "      <th>12</th>\n",
              "      <td>vitor2215@alu.ufc.br</td>\n",
              "      <td>0.666667</td>\n",
              "      <td>Eu participei de exercícios práticos em sala de aula.</td>\n",
              "    </tr>\n",
              "    <tr>\n",
              "      <th>13</th>\n",
              "      <td>barbosavitor@alu.ufc.br</td>\n",
              "      <td>0.666667</td>\n",
              "      <td>Eu tive aulas sobre isso.</td>\n",
              "    </tr>\n",
              "    <tr>\n",
              "      <th>14</th>\n",
              "      <td>willyanmota93@gmail.com</td>\n",
              "      <td>-0.666667</td>\n",
              "      <td>Eu tive aulas sobre isso.</td>\n",
              "    </tr>\n",
              "  </tbody>\n",
              "</table>\n",
              "</div>"
            ],
            "text/plain": [
              "                         E-mail  Normalized_Gain  \\\n",
              "0       liinekelly10@alu.ufc.br         0.000000   \n",
              "1        cassiomatos@alu.ufc.br         0.166667   \n",
              "2      emanuel.pires@alu.ufc.br         1.000000   \n",
              "3        souzaesdras@alu.ufc.br         0.000000   \n",
              "4          paulojr00@alu.ufc.br        -0.500000   \n",
              "5        gofelix1616@alu.ufc.br         0.000000   \n",
              "6        italo.csr07@alu.ufc.br         0.000000   \n",
              "7          jose.davi@alu.ufc.br         0.200000   \n",
              "8   ericmesquita2480@alu.ufc.br         1.000000   \n",
              "9      paulo.cardoso@alu.ufc.br        -0.200000   \n",
              "10       pamelauchoa@alu.ufc.br         0.500000   \n",
              "11        sousavitim@alu.ufc.br        -0.250000   \n",
              "12         vitor2215@alu.ufc.br         0.666667   \n",
              "13      barbosavitor@alu.ufc.br         0.666667   \n",
              "14      willyanmota93@gmail.com        -0.666667   \n",
              "\n",
              "   Como você autoavalia seu nível de conhecimento em segurança de software (ou informação)?  \n",
              "0                                     Eu participei de exercícios práticos em sala de aula.  \n",
              "1                                     Eu participei de exercícios práticos em sala de aula.  \n",
              "2                                     Eu participei de exercícios práticos em sala de aula.  \n",
              "3                                                                 Eu tive aulas sobre isso.  \n",
              "4                  Eu realizei pesquisas prévias em fontes da literatura e recursos online.  \n",
              "5                                                                 Eu tive aulas sobre isso.  \n",
              "6                                                                 Eu tive aulas sobre isso.  \n",
              "7                                     Eu participei de exercícios práticos em sala de aula.  \n",
              "8                                                                 Eu tive aulas sobre isso.  \n",
              "9                                               Eu não tenho familiaridade prévia com isso.  \n",
              "10                                                                Eu tive aulas sobre isso.  \n",
              "11                                                                Eu tive aulas sobre isso.  \n",
              "12                                    Eu participei de exercícios práticos em sala de aula.  \n",
              "13                                                                Eu tive aulas sobre isso.  \n",
              "14                                                                Eu tive aulas sobre isso.  "
            ]
          },
          "execution_count": 711,
          "metadata": {},
          "output_type": "execute_result"
        }
      ],
      "source": [
        "gain_exp"
      ]
    },
    {
      "cell_type": "code",
      "execution_count": 697,
      "metadata": {},
      "outputs": [],
      "source": [
        "def level_map(x):\n",
        "    if x == 'Eu tive aulas sobre isso.':\n",
        "        return 'Medium'\n",
        "    elif x == 'Eu participei de exercícios práticos em sala de aula.':\n",
        "        return 'Medium-High'\n",
        "    elif x == 'Eu realizei pesquisas prévias em fontes da literatura e recursos online.':\n",
        "        return 'Medium-Low'\n",
        "    elif x == 'Eu não tenho familiaridade prévia com isso.':\n",
        "       return 'Low'\n",
        "    elif x == 'Eu apliquei isso em um projeto industrial.':\n",
        "       return 'High' \n"
      ]
    },
    {
      "cell_type": "code",
      "execution_count": 698,
      "metadata": {},
      "outputs": [],
      "source": [
        "def categorias_map(x):\n",
        "    if x in [\n",
        "        'Eu não tenho familiaridade prévia com isso.',\n",
        "        'Eu realizei pesquisas prévias em fontes da literatura e recursos online.',\n",
        "        'Eu tive aulas sobre isso.'\n",
        "    ]:\n",
        "        return 'Less-experienced'\n",
        "    elif x in [\n",
        "        'Eu participei de exercícios práticos em sala de aula.',\n",
        "        'Eu apliquei isso em um projeto industrial.'\n",
        "    ]:\n",
        "        return 'More-experienced'\n",
        "    else:\n",
        "        return None\n"
      ]
    },
    {
      "cell_type": "code",
      "execution_count": 699,
      "metadata": {},
      "outputs": [
        {
          "data": {
            "text/html": [
              "<div>\n",
              "<style scoped>\n",
              "    .dataframe tbody tr th:only-of-type {\n",
              "        vertical-align: middle;\n",
              "    }\n",
              "\n",
              "    .dataframe tbody tr th {\n",
              "        vertical-align: top;\n",
              "    }\n",
              "\n",
              "    .dataframe thead th {\n",
              "        text-align: right;\n",
              "    }\n",
              "</style>\n",
              "<table border=\"1\" class=\"dataframe\">\n",
              "  <thead>\n",
              "    <tr style=\"text-align: right;\">\n",
              "      <th></th>\n",
              "      <th>E-mail</th>\n",
              "      <th>Normalized_Gain</th>\n",
              "      <th>Como você autoavalia seu nível de conhecimento em segurança de software (ou informação)?</th>\n",
              "      <th>categories</th>\n",
              "    </tr>\n",
              "  </thead>\n",
              "  <tbody>\n",
              "    <tr>\n",
              "      <th>0</th>\n",
              "      <td>liinekelly10@alu.ufc.br</td>\n",
              "      <td>0.000000</td>\n",
              "      <td>Eu participei de exercícios práticos em sala de aula.</td>\n",
              "      <td>More-experienced</td>\n",
              "    </tr>\n",
              "    <tr>\n",
              "      <th>1</th>\n",
              "      <td>cassiomatos@alu.ufc.br</td>\n",
              "      <td>0.166667</td>\n",
              "      <td>Eu participei de exercícios práticos em sala de aula.</td>\n",
              "      <td>More-experienced</td>\n",
              "    </tr>\n",
              "    <tr>\n",
              "      <th>2</th>\n",
              "      <td>emanuel.pires@alu.ufc.br</td>\n",
              "      <td>1.000000</td>\n",
              "      <td>Eu participei de exercícios práticos em sala de aula.</td>\n",
              "      <td>More-experienced</td>\n",
              "    </tr>\n",
              "    <tr>\n",
              "      <th>3</th>\n",
              "      <td>souzaesdras@alu.ufc.br</td>\n",
              "      <td>0.000000</td>\n",
              "      <td>Eu tive aulas sobre isso.</td>\n",
              "      <td>Less-experienced</td>\n",
              "    </tr>\n",
              "    <tr>\n",
              "      <th>4</th>\n",
              "      <td>paulojr00@alu.ufc.br</td>\n",
              "      <td>-0.500000</td>\n",
              "      <td>Eu realizei pesquisas prévias em fontes da literatura e recursos online.</td>\n",
              "      <td>Less-experienced</td>\n",
              "    </tr>\n",
              "    <tr>\n",
              "      <th>5</th>\n",
              "      <td>gofelix1616@alu.ufc.br</td>\n",
              "      <td>0.000000</td>\n",
              "      <td>Eu tive aulas sobre isso.</td>\n",
              "      <td>Less-experienced</td>\n",
              "    </tr>\n",
              "    <tr>\n",
              "      <th>6</th>\n",
              "      <td>italo.csr07@alu.ufc.br</td>\n",
              "      <td>0.000000</td>\n",
              "      <td>Eu tive aulas sobre isso.</td>\n",
              "      <td>Less-experienced</td>\n",
              "    </tr>\n",
              "    <tr>\n",
              "      <th>7</th>\n",
              "      <td>jose.davi@alu.ufc.br</td>\n",
              "      <td>0.200000</td>\n",
              "      <td>Eu participei de exercícios práticos em sala de aula.</td>\n",
              "      <td>More-experienced</td>\n",
              "    </tr>\n",
              "    <tr>\n",
              "      <th>8</th>\n",
              "      <td>ericmesquita2480@alu.ufc.br</td>\n",
              "      <td>1.000000</td>\n",
              "      <td>Eu tive aulas sobre isso.</td>\n",
              "      <td>Less-experienced</td>\n",
              "    </tr>\n",
              "    <tr>\n",
              "      <th>9</th>\n",
              "      <td>paulo.cardoso@alu.ufc.br</td>\n",
              "      <td>-0.200000</td>\n",
              "      <td>Eu não tenho familiaridade prévia com isso.</td>\n",
              "      <td>Less-experienced</td>\n",
              "    </tr>\n",
              "    <tr>\n",
              "      <th>10</th>\n",
              "      <td>pamelauchoa@alu.ufc.br</td>\n",
              "      <td>0.500000</td>\n",
              "      <td>Eu tive aulas sobre isso.</td>\n",
              "      <td>Less-experienced</td>\n",
              "    </tr>\n",
              "    <tr>\n",
              "      <th>11</th>\n",
              "      <td>sousavitim@alu.ufc.br</td>\n",
              "      <td>-0.250000</td>\n",
              "      <td>Eu tive aulas sobre isso.</td>\n",
              "      <td>Less-experienced</td>\n",
              "    </tr>\n",
              "    <tr>\n",
              "      <th>12</th>\n",
              "      <td>vitor2215@alu.ufc.br</td>\n",
              "      <td>0.666667</td>\n",
              "      <td>Eu participei de exercícios práticos em sala de aula.</td>\n",
              "      <td>More-experienced</td>\n",
              "    </tr>\n",
              "    <tr>\n",
              "      <th>13</th>\n",
              "      <td>barbosavitor@alu.ufc.br</td>\n",
              "      <td>0.666667</td>\n",
              "      <td>Eu tive aulas sobre isso.</td>\n",
              "      <td>Less-experienced</td>\n",
              "    </tr>\n",
              "    <tr>\n",
              "      <th>14</th>\n",
              "      <td>willyanmota93@gmail.com</td>\n",
              "      <td>-0.666667</td>\n",
              "      <td>Eu tive aulas sobre isso.</td>\n",
              "      <td>Less-experienced</td>\n",
              "    </tr>\n",
              "  </tbody>\n",
              "</table>\n",
              "</div>"
            ],
            "text/plain": [
              "                         E-mail  Normalized_Gain  \\\n",
              "0       liinekelly10@alu.ufc.br         0.000000   \n",
              "1        cassiomatos@alu.ufc.br         0.166667   \n",
              "2      emanuel.pires@alu.ufc.br         1.000000   \n",
              "3        souzaesdras@alu.ufc.br         0.000000   \n",
              "4          paulojr00@alu.ufc.br        -0.500000   \n",
              "5        gofelix1616@alu.ufc.br         0.000000   \n",
              "6        italo.csr07@alu.ufc.br         0.000000   \n",
              "7          jose.davi@alu.ufc.br         0.200000   \n",
              "8   ericmesquita2480@alu.ufc.br         1.000000   \n",
              "9      paulo.cardoso@alu.ufc.br        -0.200000   \n",
              "10       pamelauchoa@alu.ufc.br         0.500000   \n",
              "11        sousavitim@alu.ufc.br        -0.250000   \n",
              "12         vitor2215@alu.ufc.br         0.666667   \n",
              "13      barbosavitor@alu.ufc.br         0.666667   \n",
              "14      willyanmota93@gmail.com        -0.666667   \n",
              "\n",
              "   Como você autoavalia seu nível de conhecimento em segurança de software (ou informação)?  \\\n",
              "0                                     Eu participei de exercícios práticos em sala de aula.   \n",
              "1                                     Eu participei de exercícios práticos em sala de aula.   \n",
              "2                                     Eu participei de exercícios práticos em sala de aula.   \n",
              "3                                                                 Eu tive aulas sobre isso.   \n",
              "4                  Eu realizei pesquisas prévias em fontes da literatura e recursos online.   \n",
              "5                                                                 Eu tive aulas sobre isso.   \n",
              "6                                                                 Eu tive aulas sobre isso.   \n",
              "7                                     Eu participei de exercícios práticos em sala de aula.   \n",
              "8                                                                 Eu tive aulas sobre isso.   \n",
              "9                                               Eu não tenho familiaridade prévia com isso.   \n",
              "10                                                                Eu tive aulas sobre isso.   \n",
              "11                                                                Eu tive aulas sobre isso.   \n",
              "12                                    Eu participei de exercícios práticos em sala de aula.   \n",
              "13                                                                Eu tive aulas sobre isso.   \n",
              "14                                                                Eu tive aulas sobre isso.   \n",
              "\n",
              "          categories  \n",
              "0   More-experienced  \n",
              "1   More-experienced  \n",
              "2   More-experienced  \n",
              "3   Less-experienced  \n",
              "4   Less-experienced  \n",
              "5   Less-experienced  \n",
              "6   Less-experienced  \n",
              "7   More-experienced  \n",
              "8   Less-experienced  \n",
              "9   Less-experienced  \n",
              "10  Less-experienced  \n",
              "11  Less-experienced  \n",
              "12  More-experienced  \n",
              "13  Less-experienced  \n",
              "14  Less-experienced  "
            ]
          },
          "execution_count": 699,
          "metadata": {},
          "output_type": "execute_result"
        }
      ],
      "source": [
        "pd.set_option('display.max_colwidth', None) \n",
        "\n",
        "#gain_exp['level'] = gain_exp[\n",
        "    #'Como você autoavalia seu nível de conhecimento em segurança de software (ou informação)?'\n",
        "#].map(level_map)\n",
        "\n",
        "gain_exp['categories'] = gain_exp[\n",
        "    'Como você autoavalia seu nível de conhecimento em segurança de software (ou informação)?'\n",
        "].map(categorias_map)\n",
        "gain_exp"
      ]
    },
    {
      "cell_type": "markdown",
      "metadata": {},
      "source": [
        "Verificando a normalidade"
      ]
    },
    {
      "cell_type": "code",
      "execution_count": null,
      "metadata": {},
      "outputs": [
        {
          "name": "stdout",
          "output_type": "stream",
          "text": [
            "Shapiro-Wilk p-valor (Less-experienced): 0.6136\n",
            "O grupo Less-experienced segue uma distribuição aproximadamente normal.\n",
            "Shapiro-Wilk p-valor (More-experienced): 0.4093\n",
            "O grupo More-experienced segue uma distribuição aproximadamente normal.\n"
          ]
        }
      ],
      "source": [
        "less = gain_exp[gain_exp['categories'] == 'Less-experienced']['Normalized_Gain']\n",
        "more = gain_exp[gain_exp['categories'] == 'More-experienced']['Normalized_Gain']\n",
        "\n",
        "# Teste de normalidade para o grupo Less-experienced\n",
        "shapiro_less = stats.shapiro(less)\n",
        "print(f\"Shapiro-Wilk p-valor (Less-experienced): {shapiro_less.pvalue:.4f}\")\n",
        "if shapiro_less.pvalue > 0.05:\n",
        "    print(\"O grupo Less-experienced segue uma distribuição aproximadamente normal.\")\n",
        "else:\n",
        "    print(\"O grupo Less-experienced não segue uma distribuição normal.\")\n",
        "\n",
        "# Teste de normalidade para o grupo More-experienced\n",
        "shapiro_more = stats.shapiro(more)\n",
        "print(f\"Shapiro-Wilk p-valor (More-experienced): {shapiro_more.pvalue:.4f}\")\n",
        "if shapiro_more.pvalue > 0.05:\n",
        "    print(\"O grupo More-experienced segue uma distribuição aproximadamente normal.\")\n",
        "else:\n",
        "    print(\"O grupo More-experienced não segue uma distribuição normal.\")\n"
      ]
    },
    {
      "cell_type": "markdown",
      "metadata": {},
      "source": [
        "- como os dois grupos seguem uma distribuição normal, usaremos um teste t"
      ]
    },
    {
      "cell_type": "markdown",
      "metadata": {},
      "source": [
        "Há uma diferença significativa entre as médias entre os grupos?\n",
        "\n",
        "- **Hipótese Nula (H₀):**  \n",
        "  O ganho médio (*Normalized_Gain*) dos grupos *Less-experienced* e *More-experienced* é igual.  \n",
        "  $$\n",
        "  H_0: \\mu_{Less} = \\mu_{More}\n",
        "  $$\n",
        "\n",
        "- **Hipótese Alternativa (H₁):**  \n",
        "  O ganho médio (*Normalized_Gain*) dos grupos *Less-experienced* e *More-experienced* é diferente.  \n",
        "  $$\n",
        "  H_1: \\mu_{Less} \\neq \\mu_{More}\n",
        "  $$\n",
        "\n",
        "Responde mais indiretamente\n"
      ]
    },
    {
      "cell_type": "code",
      "execution_count": null,
      "metadata": {},
      "outputs": [
        {
          "name": "stdout",
          "output_type": "stream",
          "text": [
            "less: 0.055000000000000014\n",
            "more 0.4066666666666666\n"
          ]
        }
      ],
      "source": [
        "print(\"less:\", less.mean())\n",
        "print(\"more:\", more.mean())"
      ]
    },
    {
      "cell_type": "code",
      "execution_count": null,
      "metadata": {},
      "outputs": [
        {
          "name": "stdout",
          "output_type": "stream",
          "text": [
            "t-statistic: -1.4168\n",
            "p-value: 0.1867\n",
            "Não rejeitamos a hipótese nula. Não há evidências de diferença significativa no nível de conhecimento entre os grupos Less-experienced e More-experienced.\n"
          ]
        }
      ],
      "source": [
        "# Teste t  (Less-experienced vs More-experienced)\n",
        "t_stat, p_value = stats.ttest_ind(less, more, equal_var=False)\n",
        "\n",
        "print(f\"t-statistic: {t_stat:.4f}\")\n",
        "print(f\"p-value: {p_value:.4f}\")\n",
        "\n",
        "if p_value < 0.05:\n",
        "    print(\"Rejeitamos a hipótese nula. Há diferença significativa no nível de conhecimento entre os grupos Less-experienced e More-experienced.\")\n",
        "else:\n",
        "    print(\"Não rejeitamos a hipótese nula. Não há evidências de diferença significativa no nível de conhecimento entre os grupos Less-experienced e More-experienced.\")\n"
      ]
    },
    {
      "cell_type": "code",
      "execution_count": 702,
      "metadata": {},
      "outputs": [
        {
          "name": "stdout",
          "output_type": "stream",
          "text": [
            "Cohen's d: -0.7148\n"
          ]
        }
      ],
      "source": [
        "# Tamanho do efeito (Cohen's d)\n",
        "n1, n2 = len(less), len(more)\n",
        "s1, s2 = np.std(less, ddof=1), np.std(more, ddof=1)\n",
        "mean1, mean2 = np.mean(less), np.mean(more)\n",
        "\n",
        "# Desvio padrão combinado (pooled)\n",
        "s_pooled = np.sqrt(((n1-1)*s1**2 + (n2-1)*s2**2) / (n1+n2-2))\n",
        "\n",
        "# Cohen's d\n",
        "cohen_d = (mean1 - mean2) / s_pooled\n",
        "print(f\"Cohen's d: {cohen_d:.4f}\")"
      ]
    },
    {
      "cell_type": "markdown",
      "metadata": {},
      "source": [
        "Como o tamanho do efeito foi de Cohen's d = -0.7148, isso indica que há uma diferença moderada a grande entre os grupos. O sinal negativo mostra que o grupo More-experienced teve desempenho maior que o Less-experienced em termos de aprendizado. Em outras palavras, o nível prévio de experiência influencia o ganho de aprendizado com o jogo — jogadores mais experientes se beneficiaram mais."
      ]
    },
    {
      "cell_type": "markdown",
      "metadata": {},
      "source": [
        "Pessoas com menos experiência aprenderam mais que pessoas com mais experiência?\n",
        "\n",
        "- **Hipótese Nula (H₀):**  \n",
        "  O ganho médio (*Normalized_Gain*) do grupo *Less-experienced* é menor ou igual ao do grupo *More-experienced*.  \n",
        "  $$\n",
        "  H_0: \\mu_{Less} \\leq \\mu_{More}\n",
        "  $$\n",
        "\n",
        "- **Hipótese Alternativa (H₁):**  \n",
        "  O ganho médio (*Normalized_Gain*) do grupo *Less-experienced* é maior que o do grupo *More-experienced*.  \n",
        "  $$\n",
        "  H_1: \\mu_{Less} > \\mu_{More}\n",
        "  $$\n",
        "\n",
        "**Nota:** Este é um teste t unilateral, pois a hipótese tem direção específica.\n"
      ]
    },
    {
      "cell_type": "code",
      "execution_count": 703,
      "metadata": {},
      "outputs": [
        {
          "name": "stdout",
          "output_type": "stream",
          "text": [
            "t-statistic: -1.4168\n",
            "p-value (unilateral): 0.0934\n",
            "Não rejeitamos a hipótese nula. Não há evidências de que pessoas com menos experiência aprenderam mais que as com mais experiência.\n"
          ]
        }
      ],
      "source": [
        "# Teste t unilateral (Less-experienced > More-experienced)\n",
        "t_stat, p_value_two_sided = stats.ttest_ind(less, more, equal_var=False)\n",
        "\n",
        "# Para teste unilateral, dividimos o p-valor de duas caudas\n",
        "p_value_one_sided = p_value_two_sided / 2\n",
        "\n",
        "print(f\"t-statistic: {t_stat:.4f}\")\n",
        "print(f\"p-value (unilateral): {p_value_one_sided:.4f}\")\n",
        "\n",
        "if t_stat > 0 and p_value_one_sided < 0.05:\n",
        "    print(\"Rejeitamos a hipótese nula. Pessoas com menos experiência aprenderam mais que as com mais experiência.\")\n",
        "else:\n",
        "    print(\"Não rejeitamos a hipótese nula. Não há evidências de que pessoas com menos experiência aprenderam mais que as com mais experiência.\")"
      ]
    },
    {
      "cell_type": "code",
      "execution_count": 704,
      "metadata": {},
      "outputs": [
        {
          "name": "stdout",
          "output_type": "stream",
          "text": [
            "Cohen's d: -0.7148\n"
          ]
        }
      ],
      "source": [
        "# Tamanho do efeito (Cohen's d)\n",
        "n1, n2 = len(less), len(more)\n",
        "s1, s2 = np.std(less, ddof=1), np.std(more, ddof=1)\n",
        "mean1, mean2 = np.mean(less), np.mean(more)\n",
        "\n",
        "# Desvio padrão combinado (pooled)\n",
        "s_pooled = np.sqrt(((n1-1)*s1**2 + (n2-1)*s2**2) / (n1+n2-2))\n",
        "\n",
        "# Cohen's d\n",
        "cohen_d = (mean1 - mean2) / s_pooled\n",
        "print(f\"Cohen's d: {cohen_d:.4f}\")"
      ]
    },
    {
      "cell_type": "markdown",
      "metadata": {},
      "source": [
        "Como o tamanho do efeito foi de Cohen's d = -0.7148, isso indica que há uma diferença moderada a grande entre os grupos. O sinal negativo mostra que o grupo More-experienced teve desempenho maior que o Less-experienced em termos de aprendizado. Em outras palavras, o nível prévio de experiência influencia o ganho de aprendizado com o jogo — jogadores mais experientes se beneficiaram mais."
      ]
    },
    {
      "cell_type": "markdown",
      "metadata": {},
      "source": [
        "Pelo IRA"
      ]
    },
    {
      "cell_type": "code",
      "execution_count": 705,
      "metadata": {},
      "outputs": [
        {
          "name": "stdout",
          "output_type": "stream",
          "text": [
            "Shapiro-Wilk p-valor (IRA Baixo): 0.6031\n",
            "O grupo IRA Baixo segue uma distribuição aproximadamente normal.\n",
            "Shapiro-Wilk p-valor (IRA Alto): 0.4366\n",
            "O grupo IRA Alto segue uma distribuição aproximadamente normal.\n"
          ]
        }
      ],
      "source": [
        "# Separando os grupos a partir da tabela\n",
        "baixo = juntos[juntos['Faixa IRA'] == 'Baixo']['Normalized_Gain']\n",
        "alto = juntos[juntos['Faixa IRA'] == 'Alto']['Normalized_Gain']\n",
        "\n",
        "# Teste de normalidade para o grupo IRA Baixo\n",
        "shapiro_less = stats.shapiro(baixo)\n",
        "print(f\"Shapiro-Wilk p-valor (IRA Baixo): {shapiro_less.pvalue:.4f}\")\n",
        "if shapiro_less.pvalue > 0.05:\n",
        "    print(\"O grupo IRA Baixo segue uma distribuição aproximadamente normal.\")\n",
        "else:\n",
        "    print(\"O grupo IRA Baixo não segue uma distribuição normal.\")\n",
        "\n",
        "# Teste de normalidade para o grupo IRA Alto\n",
        "shapiro_more = stats.shapiro(alto)\n",
        "print(f\"Shapiro-Wilk p-valor (IRA Alto): {shapiro_more.pvalue:.4f}\")\n",
        "if shapiro_more.pvalue > 0.05:\n",
        "    print(\"O grupo IRA Alto segue uma distribuição aproximadamente normal.\")\n",
        "else:\n",
        "    print(\"O grupo IRA Alto não segue uma distribuição normal.\")\n"
      ]
    },
    {
      "cell_type": "code",
      "execution_count": 715,
      "metadata": {},
      "outputs": [
        {
          "name": "stdout",
          "output_type": "stream",
          "text": [
            "IRA Baixo:0.29166666666666663\n",
            "IRA Alto:0.03125\n"
          ]
        }
      ],
      "source": [
        "print(f\"IRA Baixo:{baixo.mean()}\")\n",
        "print(f\"IRA Alto:{alto.mean()}\")"
      ]
    },
    {
      "cell_type": "markdown",
      "metadata": {},
      "source": [
        "Hipóteses para o Teste t sobre o Gain (IRA)\n",
        "\n",
        "- **Hipótese Nula (H₀):**  \n",
        "  Não há diferença no **ganho médio** (IRA) entre os grupos.  \n",
        "\n",
        "  $$H_0: \\mu_{\\text{baixo}} = \\mu_{\\text{alto}}$$\n",
        "\n",
        "- **Hipótese Alternativa (H₁):**  \n",
        "  Há diferença no **ganho médio** entre os grupos.  \n",
        "\n",
        "  $$H_1: \\mu_{\\text{baixo}} \\neq \\mu_{\\text{alto}}$$\n"
      ]
    },
    {
      "cell_type": "code",
      "execution_count": 706,
      "metadata": {},
      "outputs": [
        {
          "name": "stdout",
          "output_type": "stream",
          "text": [
            "t-statistic: 1.0703\n",
            "p-value: 0.3044\n",
            "Não rejeitamos a hipótese nula (H₀). Não há evidências de diferença significativa no ganho médio (IRA) entre os grupos.\n"
          ]
        }
      ],
      "source": [
        "# Teste t para duas amostras independentes\n",
        "t_stat, p_value = stats.ttest_ind(baixo, alto, equal_var=False)\n",
        "\n",
        "print(f\"t-statistic: {t_stat:.4f}\")\n",
        "print(f\"p-value: {p_value:.4f}\")\n",
        "\n",
        "if p_value < 0.05:\n",
        "    print(\"Rejeitamos a hipótese nula (H₀). Há diferença significativa no ganho médio (IRA) entre os grupos.\")\n",
        "else:\n",
        "    print(\"Não rejeitamos a hipótese nula (H₀). Não há evidências de diferença significativa no ganho médio (IRA) entre os grupos.\")"
      ]
    },
    {
      "cell_type": "code",
      "execution_count": 707,
      "metadata": {},
      "outputs": [
        {
          "name": "stdout",
          "output_type": "stream",
          "text": [
            "Cohen's d: 0.5351\n"
          ]
        }
      ],
      "source": [
        "# Tamanho do efeito (Cohen's d)\n",
        "n1, n2 = len(baixo), len(alto)\n",
        "s1, s2 = np.std(baixo, ddof=1), np.std(alto, ddof=1)\n",
        "mean1, mean2 = np.mean(baixo), np.mean(alto)\n",
        "\n",
        "# Desvio padrão combinado (pooled)\n",
        "s_pooled = np.sqrt(((n1-1)*s1**2 + (n2-1)*s2**2) / (n1+n2-2))\n",
        "\n",
        "# Cohen's d\n",
        "cohen_d = (mean1 - mean2) / s_pooled\n",
        "print(f\"Cohen's d: {cohen_d:.4f}\")"
      ]
    },
    {
      "cell_type": "markdown",
      "metadata": {},
      "source": [
        "Como o tamanho do efeito foi de Cohen's d = 0.5351, isso indica que há uma diferença moderada no ganho médio (IRA) entre os grupos. O valor positivo mostra que o grupo com IRA Alto obteve ganho médio maior que o grupo baixo. Em outras palavras, o nível do IRA associado influencia o desempenho, e o impacto prático é moderado, sugerindo que as diferenças observadas no IRA são relevantes, mas não extremamente grandes."
      ]
    }
  ],
  "metadata": {
    "colab": {
      "provenance": [],
      "toc_visible": true
    },
    "kernelspec": {
      "display_name": "base",
      "language": "python",
      "name": "python3"
    },
    "language_info": {
      "codemirror_mode": {
        "name": "ipython",
        "version": 3
      },
      "file_extension": ".py",
      "mimetype": "text/x-python",
      "name": "python",
      "nbconvert_exporter": "python",
      "pygments_lexer": "ipython3",
      "version": "3.12.7"
    }
  },
  "nbformat": 4,
  "nbformat_minor": 0
}
